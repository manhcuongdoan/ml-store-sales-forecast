{
 "cells": [
  {
   "cell_type": "markdown",
   "metadata": {},
   "source": [
    "# Import Libraries, Datasets & Declare Functions"
   ]
  },
  {
   "cell_type": "code",
   "execution_count": 1,
   "metadata": {},
   "outputs": [],
   "source": [
    "# Import libraries | Standard\n",
    "import pandas as pd\n",
    "import numpy as np\n",
    "import os\n",
    "import datetime\n",
    "import warnings\n",
    "from time import time\n",
    "\n",
    "# Import libraries | Visualization\n",
    "import seaborn as sns\n",
    "import matplotlib.pyplot as plt\n",
    "import matplotlib.patches as mpatches\n",
    "\n",
    "# Import libraries | Sk-learn\n",
    "from sklearn.preprocessing import MinMaxScaler\n",
    "from sklearn.model_selection import train_test_split\n",
    "from sklearn.metrics import mean_absolute_error, mean_squared_error, mean_squared_log_error\n",
    "from sklearn.metrics.scorer import make_scorer\n",
    "from sklearn.linear_model import LinearRegression, Lasso, ElasticNet\n",
    "from sklearn.ensemble import RandomForestRegressor, GradientBoostingRegressor\n",
    "from sklearn.model_selection import KFold, cross_val_score, GridSearchCV\n",
    "\n",
    "import xgboost as xgb\n",
    "from lightgbm import LGBMRegressor\n",
    "\n",
    "# Pretty display for notebooks\n",
    "%matplotlib inline"
   ]
  },
  {
   "cell_type": "code",
   "execution_count": 2,
   "metadata": {},
   "outputs": [],
   "source": [
    "pd.set_option('display.max_columns', None)  "
   ]
  },
  {
   "cell_type": "code",
   "execution_count": 3,
   "metadata": {},
   "outputs": [],
   "source": [
    "#pd.set_option('display.max_rows', None)"
   ]
  },
  {
   "cell_type": "code",
   "execution_count": 4,
   "metadata": {},
   "outputs": [],
   "source": [
    "warnings.filterwarnings('ignore')"
   ]
  },
  {
   "cell_type": "code",
   "execution_count": 5,
   "metadata": {},
   "outputs": [],
   "source": [
    "def distribution(data, features, transformed = False):\n",
    "    \"\"\"\n",
    "    Visualization code for displaying distributions of features\n",
    "    \"\"\"\n",
    "    \n",
    "    # Create figure\n",
    "    fig = plt.figure(figsize = (11,5));\n",
    "\n",
    "    # Skewed feature plotting\n",
    "    for i, feature in enumerate(features):\n",
    "        ax = fig.add_subplot(1, 2, i+1)\n",
    "        ax.hist(data[feature], bins = 25, color = '#00A0A0')\n",
    "        ax.set_title(\"'%s' Feature Distribution\"%(feature), fontsize = 14)\n",
    "        ax.set_xlabel(\"Value\")\n",
    "        ax.set_ylabel(\"Number of Records\")\n",
    "        ax.set_ylim((0, 2000))\n",
    "        ax.set_yticks([0, 500, 1000, 1500, 2000])\n",
    "        ax.set_yticklabels([0, 500, 1000, 1500, \">2000\"])\n",
    "\n",
    "    # Plot aesthetics\n",
    "    if transformed:\n",
    "        fig.suptitle(\"Log-transformed Distributions of Continuous Data Features\", \\\n",
    "            fontsize = 16, y = 1.03)\n",
    "    else:\n",
    "        fig.suptitle(\"Distributions of Continuous Data Features\", \\\n",
    "            fontsize = 16, y = 1.03)\n",
    "\n",
    "    fig.tight_layout()\n",
    "    fig.show()"
   ]
  },
  {
   "cell_type": "code",
   "execution_count": 6,
   "metadata": {},
   "outputs": [],
   "source": [
    "def eval_train_predict(learner, sample_size, train_X, train_y, test_X, test_y): \n",
    "    '''\n",
    "    inputs:\n",
    "       - learner: the learning algorithm to be trained and predicted on\n",
    "       - sample_size: the size of samples (number) to be drawn from training set       \n",
    "       - train_X: features training set\n",
    "       - train_y: sales training set\n",
    "       - test_X: features testing set\n",
    "       - test_y: sales testing set\n",
    "    '''\n",
    "    \n",
    "    results = {}\n",
    "    \n",
    "    # Fit the learner to the training data\n",
    "    start = time() # Get start time\n",
    "    learner = learner.fit(train_X[:sample_size], train_y[:sample_size])\n",
    "    end = time() # Get end time\n",
    "    \n",
    "    # Calculate the training time\n",
    "    results['time_train'] = end - start\n",
    "        \n",
    "    # Get the predictions on the test set(X_test),\n",
    "    start = time() # Get start time\n",
    "    predictions = learner.predict(test_X)\n",
    "    end = time() # Get end time\n",
    "    \n",
    "    # Calculate the total prediction time\n",
    "    results['time_pred'] = end - start\n",
    "            \n",
    "    # Compute Weighted Mean Absolute Error on Test Set\n",
    "    results['WMAE'] = weighted_mean_absolute_error(test_y, predictions, compute_weights(test_X['IsHoliday']))\n",
    "                   \n",
    "    # Success\n",
    "    print(\"{} trained on {} samples.\".format(learner.__class__.__name__, sample_size))\n",
    "        \n",
    "    # Return the results\n",
    "    return results"
   ]
  },
  {
   "cell_type": "code",
   "execution_count": 7,
   "metadata": {},
   "outputs": [],
   "source": [
    "def eval_visualize(results):\n",
    "    \"\"\"\n",
    "    Visualization code to display results of various learners.\n",
    "    \n",
    "    inputs:\n",
    "      - learners: a list of supervised learners\n",
    "      - stats: a list of dictionaries of the statistic results from 'train_predict()'\n",
    "    \"\"\"\n",
    "  \n",
    "    # Create figure\n",
    "    fig, ax = plt.subplots(1, 3, figsize = (18,8))\n",
    "\n",
    "    # Constants\n",
    "    bar_width = 0.1\n",
    "    colors = ['#A00000','#00A0A0','#00A000','#E3DAC9','#555555', '#87CEEB']\n",
    "    metrics = ['time_train', 'time_pred', 'WMAE']\n",
    "    \n",
    "    # Super loop to plot four panels of data\n",
    "    for k, learner in enumerate(results.keys()):\n",
    "        for j, metric in enumerate(metrics):\n",
    "            # Creative plot code\n",
    "            ax[j%3].bar(0+k*bar_width, results[learner][0][metric], width = bar_width, color = colors[k])\n",
    "            ax[j%3].set_xlabel(\"Models\")\n",
    "            ax[j%3].set_xticklabels([''])\n",
    "                \n",
    "    # Add unique y-labels\n",
    "    ax[0].set_ylabel(\"Time (in seconds)\")\n",
    "    ax[1].set_ylabel(\"Time (in seconds)\")\n",
    "    ax[2].set_ylabel(\"WMAE\")\n",
    "    \n",
    "    # Add titles\n",
    "    ax[0].set_title(\"Model Training\")\n",
    "    ax[1].set_title(\"Model Predicting\")\n",
    "    ax[2].set_title(\"WMAE on Testing Set\")\n",
    " \n",
    "    # Create patches for the legend\n",
    "    patches = []\n",
    "    for i, learner in enumerate(results.keys()):\n",
    "        patches.append(mpatches.Patch(color = colors[i], label = learner))\n",
    "    plt.legend(handles = patches, bbox_to_anchor = (-.80, 2.43), \\\n",
    "               loc = 'upper center', borderaxespad = 0., ncol = 3, fontsize = 'x-large')\n",
    "    \n",
    "    # Aesthetics\n",
    "    plt.suptitle(\"Performance Metrics for Supervised Learning Models\", fontsize = 16, y = 1.10)\n",
    "    plt.tight_layout()\n",
    "    plt.show()"
   ]
  },
  {
   "cell_type": "code",
   "execution_count": 8,
   "metadata": {},
   "outputs": [],
   "source": [
    "def train_predict(learner, train_X, train_y, test_X, test_y, verbose=0): \n",
    "    '''\n",
    "    inputs:\n",
    "       - learner: the learning algorithm to be trained and predicted on\n",
    "       - train_X: features training set\n",
    "       - train_y: sales training set\n",
    "       - test_X: features testing set\n",
    "       - test_y: sales testing set\n",
    "    '''\n",
    "    \n",
    "    results = {}\n",
    "    \n",
    "    # Fit the learner to the training data\n",
    "    start = time() # Get start time\n",
    "    learner = learner.fit(train_X, train_y)\n",
    "    end = time() # Get end time\n",
    "    \n",
    "    # Calculate the training time\n",
    "    results['time_train'] = end - start\n",
    "        \n",
    "    # Get the predictions on the test set(X_test),\n",
    "    start = time() # Get start time\n",
    "    predictions = learner.predict(test_X)\n",
    "    end = time() # Get end time\n",
    "    \n",
    "    # Calculate the total prediction time\n",
    "    results['time_pred'] = end - start\n",
    "            \n",
    "    # Compute Weighted Mean Absolute Error on Test Set\n",
    "    results['WMAE'] = weighted_mean_absolute_error(test_y, predictions, compute_weights(test_X['IsHoliday']))\n",
    "\n",
    "    #Extract the feature importances\n",
    "    importances = learner.feature_importances_\n",
    "\n",
    "    # Success\n",
    "    print(\"Learner Name :\", learner.__class__.__name__)\n",
    "    print(\"Training     :\", round(results['time_train'],2), \"secs /\", len(train_y), \"records\")\n",
    "    print(\"Predicting   :\", round(results['time_pred'],2), \"secs /\", len(test_y), \"records\")\n",
    "    print(\"Weighted MAE :\", round(results['WMAE'],2))\n",
    "\n",
    "    if verbose == 1:\n",
    "        # Plot\n",
    "        print(\"\\n<Feature Importance>\\n\")\n",
    "        feature_plot(importances, train_X, train_y, 10)\n",
    "\n",
    "        print(\"\\n<Feature Weightage>\\n\")\n",
    "        topk = len(train_X.columns)\n",
    "        indices = np.argsort(importances)[::-1]\n",
    "        columns = train_X.columns.values[indices[:topk]]\n",
    "        values = importances[indices][:topk]\n",
    "\n",
    "        for i in range(topk):\n",
    "            print('\\t' + columns[i] + (' ' * (15 - len(columns[i])) + ': ' + str(values[i])))\n",
    "            \n",
    "        print(\"\\n<Learner Params>\\n\", model.get_params())\n",
    "    \n",
    "    # Return the model & predictions\n",
    "    return (learner, predictions)"
   ]
  },
  {
   "cell_type": "code",
   "execution_count": 9,
   "metadata": {},
   "outputs": [],
   "source": [
    "def feature_plot(importances, train_X, train_y, topk=5):\n",
    "    \n",
    "    # Display the most important features\n",
    "    indices = np.argsort(importances)[::-1]\n",
    "    columns = train_X.columns.values[indices[:topk]]\n",
    "    values = importances[indices][:topk]\n",
    "\n",
    "    # Creat the plot\n",
    "    fig = plt.figure(figsize = (18,5))\n",
    "    plt.title(\"Normalized Weights for First \" + str(topk) + \" Most Predictive Features\", fontsize = 16)\n",
    "    plt.bar(np.arange(topk), values, width = 0.6, align=\"center\", color = '#00A000', \\\n",
    "          label = \"Feature Weight\")\n",
    "    plt.bar(np.arange(topk) - 0.3, np.cumsum(values), width = 0.2, align = \"center\", color = '#00A0A0', \\\n",
    "          label = \"Cumulative Feature Weight\")\n",
    "    plt.xticks(np.arange(topk), columns)\n",
    "    plt.xlim((-0.5, 9.5))\n",
    "    plt.ylabel(\"Weight\", fontsize = 12)\n",
    "    plt.xlabel(\"Feature\", fontsize = 12)\n",
    "    \n",
    "    plt.legend(loc = 'upper left')\n",
    "    plt.tight_layout()\n",
    "    plt.show()  "
   ]
  },
  {
   "cell_type": "code",
   "execution_count": 10,
   "metadata": {},
   "outputs": [],
   "source": [
    "def reduce_mem_usage(df, verbose=True):\n",
    "    \"\"\" iterate through all the columns of a dataframe and modify the data type\n",
    "        to reduce memory usage.        \n",
    "    \"\"\"    \n",
    "    numerics = ['int16', 'int32', 'int64', 'float16', 'float32', 'float64']\n",
    "    start_mem = df.memory_usage().sum() / 1024**2    \n",
    "    print('Memory usage of dataframe is {:.2f} MB'.format(start_mem))    \n",
    "    \n",
    "    for col in df.columns:\n",
    "        col_type = df[col].dtypes\n",
    "        if col_type in numerics:\n",
    "            c_min = df[col].min()\n",
    "            c_max = df[col].max()\n",
    "            if str(col_type)[:3] == 'int':\n",
    "                if c_min > np.iinfo(np.int8).min and c_max < np.iinfo(np.int8).max:\n",
    "                    df[col] = df[col].astype(np.int8)\n",
    "                elif c_min > np.iinfo(np.int16).min and c_max < np.iinfo(np.int16).max:\n",
    "                    df[col] = df[col].astype(np.int16)\n",
    "                elif c_min > np.iinfo(np.int32).min and c_max < np.iinfo(np.int32).max:\n",
    "                    df[col] = df[col].astype(np.int32)\n",
    "                elif c_min > np.iinfo(np.int64).min and c_max < np.iinfo(np.int64).max:\n",
    "                    df[col] = df[col].astype(np.int64)  \n",
    "            else:\n",
    "                if c_min > np.finfo(np.float16).min and c_max < np.finfo(np.float16).max:\n",
    "                    df[col] = df[col].astype(np.float16)\n",
    "                elif c_min > np.finfo(np.float32).min and c_max < np.finfo(np.float32).max:\n",
    "                    df[col] = df[col].astype(np.float32)\n",
    "                else:\n",
    "                    df[col] = df[col].astype(np.float64)    \n",
    "    end_mem = df.memory_usage().sum() / 1024**2\n",
    "    print('Memory usage after optimization is: {:.2f} MB'.format(end_mem))\n",
    "    print('Decreased by {:.1f}%'.format(100 * (start_mem - end_mem) / start_mem))\n",
    "    return df"
   ]
  },
  {
   "cell_type": "code",
   "execution_count": 11,
   "metadata": {},
   "outputs": [],
   "source": [
    "def compute_weights(holidays):\n",
    "    return holidays.apply(lambda x: 1 if x==0 else 5)"
   ]
  },
  {
   "cell_type": "code",
   "execution_count": 12,
   "metadata": {},
   "outputs": [],
   "source": [
    "def weighted_mean_absolute_error(pred_y, test_y, weights):\n",
    "    return 1/sum(weights) * sum(weights * abs(test_y - pred_y))"
   ]
  },
  {
   "cell_type": "code",
   "execution_count": 20,
   "metadata": {},
   "outputs": [],
   "source": [
    "# Input data files are available in the \"../input/\" directory.\n",
    "# For example, running this (by clicking run or pressing Shift+Enter) will list all files under the input directory\n",
    "\n",
    "cnt = 0\n",
    "env = 'Outside Kaggle'\n",
    "\n",
    "for dirname, _, filenames in os.walk('/kaggle/input'):\n",
    "    for filename in filenames:\n",
    "        cnt += 1\n",
    "        print(os.path.join(dirname, filename))\n",
    "        \n",
    "if cnt > 0:\n",
    "    env = 'Kaggle Kernel'"
   ]
  },
  {
   "cell_type": "code",
   "execution_count": 21,
   "metadata": {},
   "outputs": [
    {
     "name": "stdout",
     "output_type": "stream",
     "text": [
      "Environment: Outside Kaggle\n"
     ]
    }
   ],
   "source": [
    "print('Environment:', env)"
   ]
  },
  {
   "cell_type": "code",
   "execution_count": 22,
   "metadata": {},
   "outputs": [],
   "source": [
    "# Read input files\n",
    "if env == 'Kaggle Kernel':\n",
    "    features = pd.read_csv(\"/kaggle/input/walmart-recruiting-store-sales-forecasting/features.csv\")\n",
    "    stores = pd.read_csv(\"/kaggle/input/walmart-recruiting-store-sales-forecasting/stores.csv\")\n",
    "    train = pd.read_csv(\"/kaggle/input/walmart-recruiting-store-sales-forecasting/train.csv\")\n",
    "    test = pd.read_csv(\"/kaggle/input/walmart-recruiting-store-sales-forecasting/test.csv\")\n",
    "else:    \n",
    "    features = pd.read_csv(\"data/features.csv\")\n",
    "    stores = pd.read_csv(\"data/stores.csv\")\n",
    "    train = pd.read_csv(\"data/train.csv\")\n",
    "    test = pd.read_csv(\"data/test.csv\")"
   ]
  },
  {
   "cell_type": "code",
   "execution_count": 14,
   "metadata": {},
   "outputs": [
    {
     "name": "stdout",
     "output_type": "stream",
     "text": [
      "Memory usage of dataframe is 13.27 MB\n",
      "Memory usage after optimization is: 6.03 MB\n",
      "Decreased by 54.5%\n",
      "Memory usage of dataframe is 2.74 MB\n",
      "Memory usage after optimization is: 1.21 MB\n",
      "Decreased by 56.0%\n"
     ]
    }
   ],
   "source": [
    "train=reduce_mem_usage(train)\n",
    "test=reduce_mem_usage(test)"
   ]
  },
  {
   "cell_type": "markdown",
   "metadata": {},
   "source": [
    "# Data Exploration"
   ]
  },
  {
   "cell_type": "markdown",
   "metadata": {},
   "source": [
    "## 1. Stores Data"
   ]
  },
  {
   "cell_type": "code",
   "execution_count": 15,
   "metadata": {},
   "outputs": [
    {
     "data": {
      "text/html": [
       "<div>\n",
       "<style scoped>\n",
       "    .dataframe tbody tr th:only-of-type {\n",
       "        vertical-align: middle;\n",
       "    }\n",
       "\n",
       "    .dataframe tbody tr th {\n",
       "        vertical-align: top;\n",
       "    }\n",
       "\n",
       "    .dataframe thead th {\n",
       "        text-align: right;\n",
       "    }\n",
       "</style>\n",
       "<table border=\"1\" class=\"dataframe\">\n",
       "  <thead>\n",
       "    <tr style=\"text-align: right;\">\n",
       "      <th></th>\n",
       "      <th>Store</th>\n",
       "      <th>Type</th>\n",
       "      <th>Size</th>\n",
       "    </tr>\n",
       "  </thead>\n",
       "  <tbody>\n",
       "    <tr>\n",
       "      <th>0</th>\n",
       "      <td>1</td>\n",
       "      <td>A</td>\n",
       "      <td>151315</td>\n",
       "    </tr>\n",
       "    <tr>\n",
       "      <th>1</th>\n",
       "      <td>2</td>\n",
       "      <td>A</td>\n",
       "      <td>202307</td>\n",
       "    </tr>\n",
       "    <tr>\n",
       "      <th>2</th>\n",
       "      <td>3</td>\n",
       "      <td>B</td>\n",
       "      <td>37392</td>\n",
       "    </tr>\n",
       "    <tr>\n",
       "      <th>3</th>\n",
       "      <td>4</td>\n",
       "      <td>A</td>\n",
       "      <td>205863</td>\n",
       "    </tr>\n",
       "    <tr>\n",
       "      <th>4</th>\n",
       "      <td>5</td>\n",
       "      <td>B</td>\n",
       "      <td>34875</td>\n",
       "    </tr>\n",
       "  </tbody>\n",
       "</table>\n",
       "</div>"
      ],
      "text/plain": [
       "   Store Type    Size\n",
       "0      1    A  151315\n",
       "1      2    A  202307\n",
       "2      3    B   37392\n",
       "3      4    A  205863\n",
       "4      5    B   34875"
      ]
     },
     "execution_count": 15,
     "metadata": {},
     "output_type": "execute_result"
    }
   ],
   "source": [
    "stores.head()"
   ]
  },
  {
   "cell_type": "code",
   "execution_count": 16,
   "metadata": {},
   "outputs": [
    {
     "name": "stdout",
     "output_type": "stream",
     "text": [
      "<class 'pandas.core.frame.DataFrame'>\n",
      "RangeIndex: 45 entries, 0 to 44\n",
      "Data columns (total 3 columns):\n",
      "Store    45 non-null int64\n",
      "Type     45 non-null object\n",
      "Size     45 non-null int64\n",
      "dtypes: int64(2), object(1)\n",
      "memory usage: 1.1+ KB\n"
     ]
    }
   ],
   "source": [
    "stores.info()"
   ]
  },
  {
   "cell_type": "code",
   "execution_count": 17,
   "metadata": {},
   "outputs": [
    {
     "data": {
      "text/html": [
       "<div>\n",
       "<style scoped>\n",
       "    .dataframe tbody tr th:only-of-type {\n",
       "        vertical-align: middle;\n",
       "    }\n",
       "\n",
       "    .dataframe tbody tr th {\n",
       "        vertical-align: top;\n",
       "    }\n",
       "\n",
       "    .dataframe thead th {\n",
       "        text-align: right;\n",
       "    }\n",
       "</style>\n",
       "<table border=\"1\" class=\"dataframe\">\n",
       "  <thead>\n",
       "    <tr style=\"text-align: right;\">\n",
       "      <th></th>\n",
       "      <th>Store</th>\n",
       "      <th>Size</th>\n",
       "    </tr>\n",
       "  </thead>\n",
       "  <tbody>\n",
       "    <tr>\n",
       "      <th>count</th>\n",
       "      <td>45.000000</td>\n",
       "      <td>45.000000</td>\n",
       "    </tr>\n",
       "    <tr>\n",
       "      <th>mean</th>\n",
       "      <td>23.000000</td>\n",
       "      <td>130287.600000</td>\n",
       "    </tr>\n",
       "    <tr>\n",
       "      <th>std</th>\n",
       "      <td>13.133926</td>\n",
       "      <td>63825.271991</td>\n",
       "    </tr>\n",
       "    <tr>\n",
       "      <th>min</th>\n",
       "      <td>1.000000</td>\n",
       "      <td>34875.000000</td>\n",
       "    </tr>\n",
       "    <tr>\n",
       "      <th>25%</th>\n",
       "      <td>12.000000</td>\n",
       "      <td>70713.000000</td>\n",
       "    </tr>\n",
       "    <tr>\n",
       "      <th>50%</th>\n",
       "      <td>23.000000</td>\n",
       "      <td>126512.000000</td>\n",
       "    </tr>\n",
       "    <tr>\n",
       "      <th>75%</th>\n",
       "      <td>34.000000</td>\n",
       "      <td>202307.000000</td>\n",
       "    </tr>\n",
       "    <tr>\n",
       "      <th>max</th>\n",
       "      <td>45.000000</td>\n",
       "      <td>219622.000000</td>\n",
       "    </tr>\n",
       "  </tbody>\n",
       "</table>\n",
       "</div>"
      ],
      "text/plain": [
       "           Store           Size\n",
       "count  45.000000      45.000000\n",
       "mean   23.000000  130287.600000\n",
       "std    13.133926   63825.271991\n",
       "min     1.000000   34875.000000\n",
       "25%    12.000000   70713.000000\n",
       "50%    23.000000  126512.000000\n",
       "75%    34.000000  202307.000000\n",
       "max    45.000000  219622.000000"
      ]
     },
     "execution_count": 17,
     "metadata": {},
     "output_type": "execute_result"
    }
   ],
   "source": [
    "stores.describe()"
   ]
  },
  {
   "cell_type": "code",
   "execution_count": 18,
   "metadata": {},
   "outputs": [
    {
     "data": {
      "text/html": [
       "<div>\n",
       "<style scoped>\n",
       "    .dataframe tbody tr th:only-of-type {\n",
       "        vertical-align: middle;\n",
       "    }\n",
       "\n",
       "    .dataframe tbody tr th {\n",
       "        vertical-align: top;\n",
       "    }\n",
       "\n",
       "    .dataframe thead th {\n",
       "        text-align: right;\n",
       "    }\n",
       "</style>\n",
       "<table border=\"1\" class=\"dataframe\">\n",
       "  <thead>\n",
       "    <tr style=\"text-align: right;\">\n",
       "      <th></th>\n",
       "      <th>Total</th>\n",
       "      <th>Percent</th>\n",
       "    </tr>\n",
       "  </thead>\n",
       "  <tbody>\n",
       "    <tr>\n",
       "      <th>Size</th>\n",
       "      <td>0</td>\n",
       "      <td>0.0</td>\n",
       "    </tr>\n",
       "    <tr>\n",
       "      <th>Type</th>\n",
       "      <td>0</td>\n",
       "      <td>0.0</td>\n",
       "    </tr>\n",
       "    <tr>\n",
       "      <th>Store</th>\n",
       "      <td>0</td>\n",
       "      <td>0.0</td>\n",
       "    </tr>\n",
       "  </tbody>\n",
       "</table>\n",
       "</div>"
      ],
      "text/plain": [
       "       Total  Percent\n",
       "Size       0      0.0\n",
       "Type       0      0.0\n",
       "Store      0      0.0"
      ]
     },
     "execution_count": 18,
     "metadata": {},
     "output_type": "execute_result"
    }
   ],
   "source": [
    "#missing data\n",
    "total = stores.isnull().sum().sort_values(ascending=False)\n",
    "percent = (stores.isnull().sum()/stores.isnull().count()).sort_values(ascending=False)\n",
    "missing_data = pd.concat([total, percent], axis=1, keys=['Total', 'Percent'])\n",
    "missing_data.head(20)"
   ]
  },
  {
   "cell_type": "code",
   "execution_count": 19,
   "metadata": {},
   "outputs": [
    {
     "data": {
      "text/plain": [
       "Type\n",
       "A    177247.727273\n",
       "B    101190.705882\n",
       "C     40541.666667\n",
       "Name: Size, dtype: float64"
      ]
     },
     "execution_count": 19,
     "metadata": {},
     "output_type": "execute_result"
    }
   ],
   "source": [
    "stores['Size'].groupby(stores['Type']).mean()"
   ]
  },
  {
   "cell_type": "code",
   "execution_count": 20,
   "metadata": {},
   "outputs": [
    {
     "data": {
      "image/png": "[encoded data removed]",
      "text/plain": [
       "<Figure size 1080x432 with 2 Axes>"
      ]
     },
     "metadata": {},
     "output_type": "display_data"
    }
   ],
   "source": [
    "# Create figure\n",
    "#plt.figure()\n",
    "#plt.scatter(stores['Type'], stores['Store'])\n",
    "#plt.ylabel('Store ID')\n",
    "#plt.xlabel('Store Type')\n",
    "\n",
    "fig, ax = plt.subplots(1, 2, figsize = (15,6))\n",
    "ax[0].bar(stores['Type'].unique(), stores['Size'].groupby(stores['Type']).count())\n",
    "ax[0].set_ylabel('# of Stores')\n",
    "ax[0].set_xlabel('Store Type')\n",
    "ax[0].yaxis.grid(True, linewidth=0.3)\n",
    "\n",
    "ax[1].scatter(stores['Type'], stores['Size'])\n",
    "ax[1].scatter(stores['Type'].unique(), stores['Size'].groupby(stores['Type']).mean()) #Store Type Average Store Size Vs \n",
    "ax[1].set_ylabel('Store Size (Total / Average)')\n",
    "ax[1].set_xlabel('Store Type')\n",
    "ax[1].yaxis.grid(True, linewidth=0.3)\n",
    "\n",
    "#plt.figure(figsize=(6,6))\n",
    "#plt.yticks(np.arange(len(features_missing)),features_missing.index,rotation='horizontal')\n",
    "#plt.xlabel('fraction of rows with missing data')\n",
    "#plt.barh(np.arange(len(features_missing)), features_missing)"
   ]
  },
  {
   "cell_type": "code",
   "execution_count": 21,
   "metadata": {},
   "outputs": [
    {
     "data": {
      "text/html": [
       "<div>\n",
       "<style scoped>\n",
       "    .dataframe tbody tr th:only-of-type {\n",
       "        vertical-align: middle;\n",
       "    }\n",
       "\n",
       "    .dataframe tbody tr th {\n",
       "        vertical-align: top;\n",
       "    }\n",
       "\n",
       "    .dataframe thead th {\n",
       "        text-align: right;\n",
       "    }\n",
       "</style>\n",
       "<table border=\"1\" class=\"dataframe\">\n",
       "  <thead>\n",
       "    <tr style=\"text-align: right;\">\n",
       "      <th></th>\n",
       "      <th>Store</th>\n",
       "      <th>Type</th>\n",
       "      <th>Size</th>\n",
       "    </tr>\n",
       "  </thead>\n",
       "  <tbody>\n",
       "    <tr>\n",
       "      <th>2</th>\n",
       "      <td>3</td>\n",
       "      <td>B</td>\n",
       "      <td>37392</td>\n",
       "    </tr>\n",
       "    <tr>\n",
       "      <th>4</th>\n",
       "      <td>5</td>\n",
       "      <td>B</td>\n",
       "      <td>34875</td>\n",
       "    </tr>\n",
       "    <tr>\n",
       "      <th>32</th>\n",
       "      <td>33</td>\n",
       "      <td>A</td>\n",
       "      <td>39690</td>\n",
       "    </tr>\n",
       "    <tr>\n",
       "      <th>35</th>\n",
       "      <td>36</td>\n",
       "      <td>A</td>\n",
       "      <td>39910</td>\n",
       "    </tr>\n",
       "  </tbody>\n",
       "</table>\n",
       "</div>"
      ],
      "text/plain": [
       "    Store Type   Size\n",
       "2       3    B  37392\n",
       "4       5    B  34875\n",
       "32     33    A  39690\n",
       "35     36    A  39910"
      ]
     },
     "execution_count": 21,
     "metadata": {},
     "output_type": "execute_result"
    }
   ],
   "source": [
    "stores[(stores['Size'] < 40000) & (~stores['Type'].isin(['C']))]"
   ]
  },
  {
   "cell_type": "code",
   "execution_count": 41,
   "metadata": {},
   "outputs": [
    {
     "data": {
      "text/plain": [
       "<matplotlib.axes._subplots.AxesSubplot at 0x7f87345805c0>"
      ]
     },
     "execution_count": 41,
     "metadata": {},
     "output_type": "execute_result"
    },
    {
     "data": {
      "image/png": "[encoded data removed]",
      "text/plain": [
       "<Figure size 432x288 with 1 Axes>"
      ]
     },
     "metadata": {},
     "output_type": "display_data"
    }
   ],
   "source": [
    "#Explore Weekly Sales - histogram\n",
    "sns.distplot(train['Size'])"
   ]
  },
  {
   "cell_type": "markdown",
   "metadata": {},
   "source": [
    "###### Takeaways: \n",
    "1. Column TYPE is a candidate for one-hot encoding. \n",
    "2. Most stores are of TYPE='A'. Only a few stores are of TYPE='C'.\n",
    "3. TYPE columns seem to be linked to Store Size. Average store size of TYPE 'A' is ~ 175k, TYPE 'B' is ~ 100k and TYPE 'C' is ~40k\n",
    "4. Four stores [3, 5, 33 & 36] whose size is < 40k, seem to have been incorrectly tagged as Types A & B"
   ]
  },
  {
   "cell_type": "markdown",
   "metadata": {},
   "source": [
    "## 2. Features Data"
   ]
  },
  {
   "cell_type": "code",
   "execution_count": 22,
   "metadata": {},
   "outputs": [
    {
     "data": {
      "text/html": [
       "<div>\n",
       "<style scoped>\n",
       "    .dataframe tbody tr th:only-of-type {\n",
       "        vertical-align: middle;\n",
       "    }\n",
       "\n",
       "    .dataframe tbody tr th {\n",
       "        vertical-align: top;\n",
       "    }\n",
       "\n",
       "    .dataframe thead th {\n",
       "        text-align: right;\n",
       "    }\n",
       "</style>\n",
       "<table border=\"1\" class=\"dataframe\">\n",
       "  <thead>\n",
       "    <tr style=\"text-align: right;\">\n",
       "      <th></th>\n",
       "      <th>Store</th>\n",
       "      <th>Date</th>\n",
       "      <th>Temperature</th>\n",
       "      <th>Fuel_Price</th>\n",
       "      <th>MarkDown1</th>\n",
       "      <th>MarkDown2</th>\n",
       "      <th>MarkDown3</th>\n",
       "      <th>MarkDown4</th>\n",
       "      <th>MarkDown5</th>\n",
       "      <th>CPI</th>\n",
       "      <th>Unemployment</th>\n",
       "      <th>IsHoliday</th>\n",
       "    </tr>\n",
       "  </thead>\n",
       "  <tbody>\n",
       "    <tr>\n",
       "      <th>0</th>\n",
       "      <td>1</td>\n",
       "      <td>2010-02-05</td>\n",
       "      <td>42.31</td>\n",
       "      <td>2.572</td>\n",
       "      <td>NaN</td>\n",
       "      <td>NaN</td>\n",
       "      <td>NaN</td>\n",
       "      <td>NaN</td>\n",
       "      <td>NaN</td>\n",
       "      <td>211.096358</td>\n",
       "      <td>8.106</td>\n",
       "      <td>False</td>\n",
       "    </tr>\n",
       "    <tr>\n",
       "      <th>1</th>\n",
       "      <td>1</td>\n",
       "      <td>2010-02-12</td>\n",
       "      <td>38.51</td>\n",
       "      <td>2.548</td>\n",
       "      <td>NaN</td>\n",
       "      <td>NaN</td>\n",
       "      <td>NaN</td>\n",
       "      <td>NaN</td>\n",
       "      <td>NaN</td>\n",
       "      <td>211.242170</td>\n",
       "      <td>8.106</td>\n",
       "      <td>True</td>\n",
       "    </tr>\n",
       "    <tr>\n",
       "      <th>2</th>\n",
       "      <td>1</td>\n",
       "      <td>2010-02-19</td>\n",
       "      <td>39.93</td>\n",
       "      <td>2.514</td>\n",
       "      <td>NaN</td>\n",
       "      <td>NaN</td>\n",
       "      <td>NaN</td>\n",
       "      <td>NaN</td>\n",
       "      <td>NaN</td>\n",
       "      <td>211.289143</td>\n",
       "      <td>8.106</td>\n",
       "      <td>False</td>\n",
       "    </tr>\n",
       "    <tr>\n",
       "      <th>3</th>\n",
       "      <td>1</td>\n",
       "      <td>2010-02-26</td>\n",
       "      <td>46.63</td>\n",
       "      <td>2.561</td>\n",
       "      <td>NaN</td>\n",
       "      <td>NaN</td>\n",
       "      <td>NaN</td>\n",
       "      <td>NaN</td>\n",
       "      <td>NaN</td>\n",
       "      <td>211.319643</td>\n",
       "      <td>8.106</td>\n",
       "      <td>False</td>\n",
       "    </tr>\n",
       "    <tr>\n",
       "      <th>4</th>\n",
       "      <td>1</td>\n",
       "      <td>2010-03-05</td>\n",
       "      <td>46.50</td>\n",
       "      <td>2.625</td>\n",
       "      <td>NaN</td>\n",
       "      <td>NaN</td>\n",
       "      <td>NaN</td>\n",
       "      <td>NaN</td>\n",
       "      <td>NaN</td>\n",
       "      <td>211.350143</td>\n",
       "      <td>8.106</td>\n",
       "      <td>False</td>\n",
       "    </tr>\n",
       "  </tbody>\n",
       "</table>\n",
       "</div>"
      ],
      "text/plain": [
       "   Store        Date  Temperature  Fuel_Price  MarkDown1  MarkDown2  \\\n",
       "0      1  2010-02-05        42.31       2.572        NaN        NaN   \n",
       "1      1  2010-02-12        38.51       2.548        NaN        NaN   \n",
       "2      1  2010-02-19        39.93       2.514        NaN        NaN   \n",
       "3      1  2010-02-26        46.63       2.561        NaN        NaN   \n",
       "4      1  2010-03-05        46.50       2.625        NaN        NaN   \n",
       "\n",
       "   MarkDown3  MarkDown4  MarkDown5         CPI  Unemployment  IsHoliday  \n",
       "0        NaN        NaN        NaN  211.096358         8.106      False  \n",
       "1        NaN        NaN        NaN  211.242170         8.106       True  \n",
       "2        NaN        NaN        NaN  211.289143         8.106      False  \n",
       "3        NaN        NaN        NaN  211.319643         8.106      False  \n",
       "4        NaN        NaN        NaN  211.350143         8.106      False  "
      ]
     },
     "execution_count": 22,
     "metadata": {},
     "output_type": "execute_result"
    }
   ],
   "source": [
    "features.head()"
   ]
  },
  {
   "cell_type": "code",
   "execution_count": 23,
   "metadata": {},
   "outputs": [
    {
     "name": "stdout",
     "output_type": "stream",
     "text": [
      "<class 'pandas.core.frame.DataFrame'>\n",
      "RangeIndex: 8190 entries, 0 to 8189\n",
      "Data columns (total 12 columns):\n",
      "Store           8190 non-null int64\n",
      "Date            8190 non-null object\n",
      "Temperature     8190 non-null float64\n",
      "Fuel_Price      8190 non-null float64\n",
      "MarkDown1       4032 non-null float64\n",
      "MarkDown2       2921 non-null float64\n",
      "MarkDown3       3613 non-null float64\n",
      "MarkDown4       3464 non-null float64\n",
      "MarkDown5       4050 non-null float64\n",
      "CPI             7605 non-null float64\n",
      "Unemployment    7605 non-null float64\n",
      "IsHoliday       8190 non-null bool\n",
      "dtypes: bool(1), float64(9), int64(1), object(1)\n",
      "memory usage: 711.9+ KB\n"
     ]
    }
   ],
   "source": [
    "features.info()"
   ]
  },
  {
   "cell_type": "code",
   "execution_count": 24,
   "metadata": {},
   "outputs": [
    {
     "data": {
      "text/html": [
       "<div>\n",
       "<style scoped>\n",
       "    .dataframe tbody tr th:only-of-type {\n",
       "        vertical-align: middle;\n",
       "    }\n",
       "\n",
       "    .dataframe tbody tr th {\n",
       "        vertical-align: top;\n",
       "    }\n",
       "\n",
       "    .dataframe thead th {\n",
       "        text-align: right;\n",
       "    }\n",
       "</style>\n",
       "<table border=\"1\" class=\"dataframe\">\n",
       "  <thead>\n",
       "    <tr style=\"text-align: right;\">\n",
       "      <th></th>\n",
       "      <th>Store</th>\n",
       "      <th>Temperature</th>\n",
       "      <th>Fuel_Price</th>\n",
       "      <th>MarkDown1</th>\n",
       "      <th>MarkDown2</th>\n",
       "      <th>MarkDown3</th>\n",
       "      <th>MarkDown4</th>\n",
       "      <th>MarkDown5</th>\n",
       "      <th>CPI</th>\n",
       "      <th>Unemployment</th>\n",
       "    </tr>\n",
       "  </thead>\n",
       "  <tbody>\n",
       "    <tr>\n",
       "      <th>count</th>\n",
       "      <td>8190.000000</td>\n",
       "      <td>8190.000000</td>\n",
       "      <td>8190.000000</td>\n",
       "      <td>4032.000000</td>\n",
       "      <td>2921.000000</td>\n",
       "      <td>3613.000000</td>\n",
       "      <td>3464.000000</td>\n",
       "      <td>4050.000000</td>\n",
       "      <td>7605.000000</td>\n",
       "      <td>7605.000000</td>\n",
       "    </tr>\n",
       "    <tr>\n",
       "      <th>mean</th>\n",
       "      <td>23.000000</td>\n",
       "      <td>59.356198</td>\n",
       "      <td>3.405992</td>\n",
       "      <td>7032.371786</td>\n",
       "      <td>3384.176594</td>\n",
       "      <td>1760.100180</td>\n",
       "      <td>3292.935886</td>\n",
       "      <td>4132.216422</td>\n",
       "      <td>172.460809</td>\n",
       "      <td>7.826821</td>\n",
       "    </tr>\n",
       "    <tr>\n",
       "      <th>std</th>\n",
       "      <td>12.987966</td>\n",
       "      <td>18.678607</td>\n",
       "      <td>0.431337</td>\n",
       "      <td>9262.747448</td>\n",
       "      <td>8793.583016</td>\n",
       "      <td>11276.462208</td>\n",
       "      <td>6792.329861</td>\n",
       "      <td>13086.690278</td>\n",
       "      <td>39.738346</td>\n",
       "      <td>1.877259</td>\n",
       "    </tr>\n",
       "    <tr>\n",
       "      <th>min</th>\n",
       "      <td>1.000000</td>\n",
       "      <td>-7.290000</td>\n",
       "      <td>2.472000</td>\n",
       "      <td>-2781.450000</td>\n",
       "      <td>-265.760000</td>\n",
       "      <td>-179.260000</td>\n",
       "      <td>0.220000</td>\n",
       "      <td>-185.170000</td>\n",
       "      <td>126.064000</td>\n",
       "      <td>3.684000</td>\n",
       "    </tr>\n",
       "    <tr>\n",
       "      <th>25%</th>\n",
       "      <td>12.000000</td>\n",
       "      <td>45.902500</td>\n",
       "      <td>3.041000</td>\n",
       "      <td>1577.532500</td>\n",
       "      <td>68.880000</td>\n",
       "      <td>6.600000</td>\n",
       "      <td>304.687500</td>\n",
       "      <td>1440.827500</td>\n",
       "      <td>132.364839</td>\n",
       "      <td>6.634000</td>\n",
       "    </tr>\n",
       "    <tr>\n",
       "      <th>50%</th>\n",
       "      <td>23.000000</td>\n",
       "      <td>60.710000</td>\n",
       "      <td>3.513000</td>\n",
       "      <td>4743.580000</td>\n",
       "      <td>364.570000</td>\n",
       "      <td>36.260000</td>\n",
       "      <td>1176.425000</td>\n",
       "      <td>2727.135000</td>\n",
       "      <td>182.764003</td>\n",
       "      <td>7.806000</td>\n",
       "    </tr>\n",
       "    <tr>\n",
       "      <th>75%</th>\n",
       "      <td>34.000000</td>\n",
       "      <td>73.880000</td>\n",
       "      <td>3.743000</td>\n",
       "      <td>8923.310000</td>\n",
       "      <td>2153.350000</td>\n",
       "      <td>163.150000</td>\n",
       "      <td>3310.007500</td>\n",
       "      <td>4832.555000</td>\n",
       "      <td>213.932412</td>\n",
       "      <td>8.567000</td>\n",
       "    </tr>\n",
       "    <tr>\n",
       "      <th>max</th>\n",
       "      <td>45.000000</td>\n",
       "      <td>101.950000</td>\n",
       "      <td>4.468000</td>\n",
       "      <td>103184.980000</td>\n",
       "      <td>104519.540000</td>\n",
       "      <td>149483.310000</td>\n",
       "      <td>67474.850000</td>\n",
       "      <td>771448.100000</td>\n",
       "      <td>228.976456</td>\n",
       "      <td>14.313000</td>\n",
       "    </tr>\n",
       "  </tbody>\n",
       "</table>\n",
       "</div>"
      ],
      "text/plain": [
       "             Store  Temperature   Fuel_Price      MarkDown1      MarkDown2  \\\n",
       "count  8190.000000  8190.000000  8190.000000    4032.000000    2921.000000   \n",
       "mean     23.000000    59.356198     3.405992    7032.371786    3384.176594   \n",
       "std      12.987966    18.678607     0.431337    9262.747448    8793.583016   \n",
       "min       1.000000    -7.290000     2.472000   -2781.450000    -265.760000   \n",
       "25%      12.000000    45.902500     3.041000    1577.532500      68.880000   \n",
       "50%      23.000000    60.710000     3.513000    4743.580000     364.570000   \n",
       "75%      34.000000    73.880000     3.743000    8923.310000    2153.350000   \n",
       "max      45.000000   101.950000     4.468000  103184.980000  104519.540000   \n",
       "\n",
       "           MarkDown3     MarkDown4      MarkDown5          CPI  Unemployment  \n",
       "count    3613.000000   3464.000000    4050.000000  7605.000000   7605.000000  \n",
       "mean     1760.100180   3292.935886    4132.216422   172.460809      7.826821  \n",
       "std     11276.462208   6792.329861   13086.690278    39.738346      1.877259  \n",
       "min      -179.260000      0.220000    -185.170000   126.064000      3.684000  \n",
       "25%         6.600000    304.687500    1440.827500   132.364839      6.634000  \n",
       "50%        36.260000   1176.425000    2727.135000   182.764003      7.806000  \n",
       "75%       163.150000   3310.007500    4832.555000   213.932412      8.567000  \n",
       "max    149483.310000  67474.850000  771448.100000   228.976456     14.313000  "
      ]
     },
     "execution_count": 24,
     "metadata": {},
     "output_type": "execute_result"
    }
   ],
   "source": [
    "features.describe()"
   ]
  },
  {
   "cell_type": "code",
   "execution_count": 25,
   "metadata": {},
   "outputs": [
    {
     "data": {
      "text/html": [
       "<div>\n",
       "<style scoped>\n",
       "    .dataframe tbody tr th:only-of-type {\n",
       "        vertical-align: middle;\n",
       "    }\n",
       "\n",
       "    .dataframe tbody tr th {\n",
       "        vertical-align: top;\n",
       "    }\n",
       "\n",
       "    .dataframe thead th {\n",
       "        text-align: right;\n",
       "    }\n",
       "</style>\n",
       "<table border=\"1\" class=\"dataframe\">\n",
       "  <thead>\n",
       "    <tr style=\"text-align: right;\">\n",
       "      <th></th>\n",
       "      <th>Total</th>\n",
       "      <th>Percent</th>\n",
       "    </tr>\n",
       "  </thead>\n",
       "  <tbody>\n",
       "    <tr>\n",
       "      <th>MarkDown2</th>\n",
       "      <td>5269</td>\n",
       "      <td>0.643346</td>\n",
       "    </tr>\n",
       "    <tr>\n",
       "      <th>MarkDown4</th>\n",
       "      <td>4726</td>\n",
       "      <td>0.577045</td>\n",
       "    </tr>\n",
       "    <tr>\n",
       "      <th>MarkDown3</th>\n",
       "      <td>4577</td>\n",
       "      <td>0.558852</td>\n",
       "    </tr>\n",
       "    <tr>\n",
       "      <th>MarkDown1</th>\n",
       "      <td>4158</td>\n",
       "      <td>0.507692</td>\n",
       "    </tr>\n",
       "    <tr>\n",
       "      <th>MarkDown5</th>\n",
       "      <td>4140</td>\n",
       "      <td>0.505495</td>\n",
       "    </tr>\n",
       "    <tr>\n",
       "      <th>Unemployment</th>\n",
       "      <td>585</td>\n",
       "      <td>0.071429</td>\n",
       "    </tr>\n",
       "    <tr>\n",
       "      <th>CPI</th>\n",
       "      <td>585</td>\n",
       "      <td>0.071429</td>\n",
       "    </tr>\n",
       "    <tr>\n",
       "      <th>IsHoliday</th>\n",
       "      <td>0</td>\n",
       "      <td>0.000000</td>\n",
       "    </tr>\n",
       "    <tr>\n",
       "      <th>Fuel_Price</th>\n",
       "      <td>0</td>\n",
       "      <td>0.000000</td>\n",
       "    </tr>\n",
       "    <tr>\n",
       "      <th>Temperature</th>\n",
       "      <td>0</td>\n",
       "      <td>0.000000</td>\n",
       "    </tr>\n",
       "    <tr>\n",
       "      <th>Date</th>\n",
       "      <td>0</td>\n",
       "      <td>0.000000</td>\n",
       "    </tr>\n",
       "    <tr>\n",
       "      <th>Store</th>\n",
       "      <td>0</td>\n",
       "      <td>0.000000</td>\n",
       "    </tr>\n",
       "  </tbody>\n",
       "</table>\n",
       "</div>"
      ],
      "text/plain": [
       "              Total   Percent\n",
       "MarkDown2      5269  0.643346\n",
       "MarkDown4      4726  0.577045\n",
       "MarkDown3      4577  0.558852\n",
       "MarkDown1      4158  0.507692\n",
       "MarkDown5      4140  0.505495\n",
       "Unemployment    585  0.071429\n",
       "CPI             585  0.071429\n",
       "IsHoliday         0  0.000000\n",
       "Fuel_Price        0  0.000000\n",
       "Temperature       0  0.000000\n",
       "Date              0  0.000000\n",
       "Store             0  0.000000"
      ]
     },
     "execution_count": 25,
     "metadata": {},
     "output_type": "execute_result"
    }
   ],
   "source": [
    "#missing data\n",
    "total = features.isnull().sum().sort_values(ascending=False)\n",
    "percent = (features.isnull().sum()/features.isnull().count()).sort_values(ascending=False)\n",
    "missing_data = pd.concat([total, percent], axis=1, keys=['Total', 'Percent'])\n",
    "missing_data.head(20)"
   ]
  },
  {
   "cell_type": "code",
   "execution_count": 26,
   "metadata": {},
   "outputs": [],
   "source": [
    "# Distribution of NaNs for all columns\n",
    "features_missing = features.isna().sum()/len(features) * 100"
   ]
  },
  {
   "cell_type": "code",
   "execution_count": 27,
   "metadata": {},
   "outputs": [
    {
     "data": {
      "text/plain": [
       "<BarContainer object of 12 artists>"
      ]
     },
     "execution_count": 27,
     "metadata": {},
     "output_type": "execute_result"
    },
    {
     "data": {
      "image/png": "[encoded data removed]",
      "text/plain": [
       "<Figure size 432x432 with 1 Axes>"
      ]
     },
     "metadata": {},
     "output_type": "display_data"
    }
   ],
   "source": [
    "plt.figure(figsize=(6,6))\n",
    "plt.yticks(np.arange(len(features_missing)),features_missing.index,rotation='horizontal')\n",
    "plt.xlabel('fraction of rows with missing data')\n",
    "plt.barh(np.arange(len(features_missing)), features_missing)"
   ]
  },
  {
   "cell_type": "code",
   "execution_count": 28,
   "metadata": {},
   "outputs": [
    {
     "data": {
      "image/png": "[encoded data removed]",
      "text/plain": [
       "<Figure size 1080x864 with 4 Axes>"
      ]
     },
     "metadata": {},
     "output_type": "display_data"
    }
   ],
   "source": [
    "fig, ax = plt.subplots(2, 2, figsize = (15,12))\n",
    "\n",
    "# Plot 1: Year Vs # of Records\n",
    "ax[0,0].barh(features['Date'].str.slice(start=0, stop=4).unique(), \n",
    "          features['Date'].str.slice(start=0, stop=4).value_counts())\n",
    "ax[0,0].set_xlabel('# of Records')\n",
    "ax[0,0].set_ylabel('Year')\n",
    "ax[0,0].yaxis.grid(True, linewidth=0.3)\n",
    "\n",
    "# Plot 2: Month Vs # of Records with Missing Values - Unemployment\n",
    "ax[1,0].barh(features['Date'].str.slice(start=0, stop=7)[features['Unemployment'].isna()].unique(), \n",
    "          features['Date'].str.slice(start=0, stop=7)[features['Unemployment'].isna()].value_counts())\n",
    "ax[1,0].set_xlabel('# of Records with Missing Values - Unemployment')\n",
    "ax[1,0].set_ylabel('Month')\n",
    "ax[1,0].yaxis.grid(True, linewidth=0.3)\n",
    "\n",
    "# Plot 3: Month Vs # of Records with Missing Values - CPI\n",
    "ax[1,1].barh(features['Date'].str.slice(start=0, stop=7)[features['CPI'].isna()].unique(), \n",
    "          features['Date'].str.slice(start=0, stop=7)[features['CPI'].isna()].value_counts())\n",
    "ax[1,1].set_xlabel('# of Records with Missing Values - CPI')\n",
    "ax[1,1].set_ylabel('Month')\n",
    "ax[1,1].yaxis.grid(True, linewidth=0.3)\n",
    "\n",
    "#plt.figure(figsize=(6,6))\n",
    "#plt.yticks(np.arange(len(features_missing)),features_missing.index,rotation='horizontal')\n",
    "#plt.xlabel('fraction of rows with missing data')\n",
    "#plt.barh(np.arange(len(features_missing)), features_missing)"
   ]
  },
  {
   "cell_type": "code",
   "execution_count": 29,
   "metadata": {},
   "outputs": [],
   "source": [
    "holidays = ['2010-02-12', '2011-02-11', '2012-02-10', '2013-02-08', #Super Bowl\n",
    "           '2010-09-10', '2011-09-09', '2012-09-07', '2013-02-06',  #Labor Day\n",
    "           '2010-11-26', '2011-11-25', '2012-11-23', '2013-11-29',  #Thanksgiving\n",
    "           '2010-12-31', '2011-12-30', '2012-12-28', '2013-12-27']  #Christmas"
   ]
  },
  {
   "cell_type": "code",
   "execution_count": 30,
   "metadata": {},
   "outputs": [
    {
     "data": {
      "text/plain": [
       "True    585\n",
       "Name: IsHoliday, dtype: int64"
      ]
     },
     "execution_count": 30,
     "metadata": {},
     "output_type": "execute_result"
    }
   ],
   "source": [
    "# Validate Holidays\n",
    "features['IsHoliday'][features['Date'].isin(holidays)].value_counts()"
   ]
  },
  {
   "cell_type": "code",
   "execution_count": 31,
   "metadata": {},
   "outputs": [
    {
     "data": {
      "text/plain": [
       "Series([], Name: Date, dtype: int64)"
      ]
     },
     "execution_count": 31,
     "metadata": {},
     "output_type": "execute_result"
    }
   ],
   "source": [
    "features['Date'][features['IsHoliday'].isin([1])][~features['Date'].isin(holidays)].value_counts()"
   ]
  },
  {
   "cell_type": "code",
   "execution_count": 32,
   "metadata": {},
   "outputs": [
    {
     "data": {
      "text/html": [
       "<div>\n",
       "<style scoped>\n",
       "    .dataframe tbody tr th:only-of-type {\n",
       "        vertical-align: middle;\n",
       "    }\n",
       "\n",
       "    .dataframe tbody tr th {\n",
       "        vertical-align: top;\n",
       "    }\n",
       "\n",
       "    .dataframe thead th {\n",
       "        text-align: right;\n",
       "    }\n",
       "</style>\n",
       "<table border=\"1\" class=\"dataframe\">\n",
       "  <thead>\n",
       "    <tr style=\"text-align: right;\">\n",
       "      <th></th>\n",
       "      <th></th>\n",
       "      <th>CPI</th>\n",
       "      <th>Unemployment</th>\n",
       "    </tr>\n",
       "    <tr>\n",
       "      <th>Store</th>\n",
       "      <th>Date</th>\n",
       "      <th></th>\n",
       "      <th></th>\n",
       "    </tr>\n",
       "  </thead>\n",
       "  <tbody>\n",
       "    <tr>\n",
       "      <th rowspan=\"30\" valign=\"top\">1</th>\n",
       "      <th>2010-02</th>\n",
       "      <td>211.236828</td>\n",
       "      <td>8.106</td>\n",
       "    </tr>\n",
       "    <tr>\n",
       "      <th>2010-03</th>\n",
       "      <td>211.241116</td>\n",
       "      <td>8.106</td>\n",
       "    </tr>\n",
       "    <tr>\n",
       "      <th>2010-04</th>\n",
       "      <td>210.552135</td>\n",
       "      <td>7.808</td>\n",
       "    </tr>\n",
       "    <tr>\n",
       "      <th>2010-05</th>\n",
       "      <td>210.547812</td>\n",
       "      <td>7.808</td>\n",
       "    </tr>\n",
       "    <tr>\n",
       "      <th>2010-06</th>\n",
       "      <td>211.356237</td>\n",
       "      <td>7.808</td>\n",
       "    </tr>\n",
       "    <tr>\n",
       "      <th>2010-07</th>\n",
       "      <td>211.207476</td>\n",
       "      <td>7.787</td>\n",
       "    </tr>\n",
       "    <tr>\n",
       "      <th>2010-08</th>\n",
       "      <td>211.578688</td>\n",
       "      <td>7.787</td>\n",
       "    </tr>\n",
       "    <tr>\n",
       "      <th>2010-09</th>\n",
       "      <td>211.536531</td>\n",
       "      <td>7.787</td>\n",
       "    </tr>\n",
       "    <tr>\n",
       "      <th>2010-10</th>\n",
       "      <td>211.800525</td>\n",
       "      <td>7.838</td>\n",
       "    </tr>\n",
       "    <tr>\n",
       "      <th>2010-11</th>\n",
       "      <td>211.899611</td>\n",
       "      <td>7.838</td>\n",
       "    </tr>\n",
       "    <tr>\n",
       "      <th>2010-12</th>\n",
       "      <td>211.457702</td>\n",
       "      <td>7.838</td>\n",
       "    </tr>\n",
       "    <tr>\n",
       "      <th>2011-01</th>\n",
       "      <td>211.721611</td>\n",
       "      <td>7.742</td>\n",
       "    </tr>\n",
       "    <tr>\n",
       "      <th>2011-02</th>\n",
       "      <td>213.071770</td>\n",
       "      <td>7.742</td>\n",
       "    </tr>\n",
       "    <tr>\n",
       "      <th>2011-03</th>\n",
       "      <td>214.224260</td>\n",
       "      <td>7.742</td>\n",
       "    </tr>\n",
       "    <tr>\n",
       "      <th>2011-04</th>\n",
       "      <td>215.258255</td>\n",
       "      <td>7.682</td>\n",
       "    </tr>\n",
       "    <tr>\n",
       "      <th>2011-05</th>\n",
       "      <td>215.749441</td>\n",
       "      <td>7.682</td>\n",
       "    </tr>\n",
       "    <tr>\n",
       "      <th>2011-06</th>\n",
       "      <td>215.101584</td>\n",
       "      <td>7.682</td>\n",
       "    </tr>\n",
       "    <tr>\n",
       "      <th>2011-07</th>\n",
       "      <td>215.345630</td>\n",
       "      <td>7.962</td>\n",
       "    </tr>\n",
       "    <tr>\n",
       "      <th>2011-08</th>\n",
       "      <td>215.638236</td>\n",
       "      <td>7.962</td>\n",
       "    </tr>\n",
       "    <tr>\n",
       "      <th>2011-09</th>\n",
       "      <td>216.157134</td>\n",
       "      <td>7.962</td>\n",
       "    </tr>\n",
       "    <tr>\n",
       "      <th>2011-10</th>\n",
       "      <td>217.398324</td>\n",
       "      <td>7.866</td>\n",
       "    </tr>\n",
       "    <tr>\n",
       "      <th>2011-11</th>\n",
       "      <td>218.130899</td>\n",
       "      <td>7.866</td>\n",
       "    </tr>\n",
       "    <tr>\n",
       "      <th>2011-12</th>\n",
       "      <td>219.149949</td>\n",
       "      <td>7.866</td>\n",
       "    </tr>\n",
       "    <tr>\n",
       "      <th>2012-01</th>\n",
       "      <td>219.917832</td>\n",
       "      <td>7.348</td>\n",
       "    </tr>\n",
       "    <tr>\n",
       "      <th>2012-02</th>\n",
       "      <td>220.374964</td>\n",
       "      <td>7.348</td>\n",
       "    </tr>\n",
       "    <tr>\n",
       "      <th>2012-03</th>\n",
       "      <td>221.153294</td>\n",
       "      <td>7.348</td>\n",
       "    </tr>\n",
       "    <tr>\n",
       "      <th>2012-04</th>\n",
       "      <td>221.531958</td>\n",
       "      <td>7.143</td>\n",
       "    </tr>\n",
       "    <tr>\n",
       "      <th>2012-05</th>\n",
       "      <td>221.721270</td>\n",
       "      <td>7.143</td>\n",
       "    </tr>\n",
       "    <tr>\n",
       "      <th>2012-06</th>\n",
       "      <td>221.781152</td>\n",
       "      <td>7.143</td>\n",
       "    </tr>\n",
       "    <tr>\n",
       "      <th>2012-07</th>\n",
       "      <td>221.920490</td>\n",
       "      <td>6.908</td>\n",
       "    </tr>\n",
       "    <tr>\n",
       "      <th>...</th>\n",
       "      <th>...</th>\n",
       "      <td>...</td>\n",
       "      <td>...</td>\n",
       "    </tr>\n",
       "    <tr>\n",
       "      <th rowspan=\"30\" valign=\"top\">2</th>\n",
       "      <th>2011-02</th>\n",
       "      <td>212.727665</td>\n",
       "      <td>8.028</td>\n",
       "    </tr>\n",
       "    <tr>\n",
       "      <th>2011-03</th>\n",
       "      <td>213.877488</td>\n",
       "      <td>8.028</td>\n",
       "    </tr>\n",
       "    <tr>\n",
       "      <th>2011-04</th>\n",
       "      <td>214.908582</td>\n",
       "      <td>7.931</td>\n",
       "    </tr>\n",
       "    <tr>\n",
       "      <th>2011-05</th>\n",
       "      <td>215.398826</td>\n",
       "      <td>7.931</td>\n",
       "    </tr>\n",
       "    <tr>\n",
       "      <th>2011-06</th>\n",
       "      <td>214.754360</td>\n",
       "      <td>7.931</td>\n",
       "    </tr>\n",
       "    <tr>\n",
       "      <th>2011-07</th>\n",
       "      <td>214.998246</td>\n",
       "      <td>7.852</td>\n",
       "    </tr>\n",
       "    <tr>\n",
       "      <th>2011-08</th>\n",
       "      <td>215.291750</td>\n",
       "      <td>7.852</td>\n",
       "    </tr>\n",
       "    <tr>\n",
       "      <th>2011-09</th>\n",
       "      <td>215.810080</td>\n",
       "      <td>7.852</td>\n",
       "    </tr>\n",
       "    <tr>\n",
       "      <th>2011-10</th>\n",
       "      <td>217.047711</td>\n",
       "      <td>7.441</td>\n",
       "    </tr>\n",
       "    <tr>\n",
       "      <th>2011-11</th>\n",
       "      <td>217.777737</td>\n",
       "      <td>7.441</td>\n",
       "    </tr>\n",
       "    <tr>\n",
       "      <th>2011-12</th>\n",
       "      <td>218.792544</td>\n",
       "      <td>7.441</td>\n",
       "    </tr>\n",
       "    <tr>\n",
       "      <th>2012-01</th>\n",
       "      <td>219.558147</td>\n",
       "      <td>7.057</td>\n",
       "    </tr>\n",
       "    <tr>\n",
       "      <th>2012-02</th>\n",
       "      <td>220.014484</td>\n",
       "      <td>7.057</td>\n",
       "    </tr>\n",
       "    <tr>\n",
       "      <th>2012-03</th>\n",
       "      <td>220.791516</td>\n",
       "      <td>7.057</td>\n",
       "    </tr>\n",
       "    <tr>\n",
       "      <th>2012-04</th>\n",
       "      <td>221.170021</td>\n",
       "      <td>6.891</td>\n",
       "    </tr>\n",
       "    <tr>\n",
       "      <th>2012-05</th>\n",
       "      <td>221.358968</td>\n",
       "      <td>6.891</td>\n",
       "    </tr>\n",
       "    <tr>\n",
       "      <th>2012-06</th>\n",
       "      <td>221.419302</td>\n",
       "      <td>6.891</td>\n",
       "    </tr>\n",
       "    <tr>\n",
       "      <th>2012-07</th>\n",
       "      <td>221.557961</td>\n",
       "      <td>6.565</td>\n",
       "    </tr>\n",
       "    <tr>\n",
       "      <th>2012-08</th>\n",
       "      <td>221.721490</td>\n",
       "      <td>6.565</td>\n",
       "    </tr>\n",
       "    <tr>\n",
       "      <th>2012-09</th>\n",
       "      <td>222.331393</td>\n",
       "      <td>6.565</td>\n",
       "    </tr>\n",
       "    <tr>\n",
       "      <th>2012-10</th>\n",
       "      <td>222.992375</td>\n",
       "      <td>6.170</td>\n",
       "    </tr>\n",
       "    <tr>\n",
       "      <th>2012-11</th>\n",
       "      <td>223.159882</td>\n",
       "      <td>6.170</td>\n",
       "    </tr>\n",
       "    <tr>\n",
       "      <th>2012-12</th>\n",
       "      <td>223.427985</td>\n",
       "      <td>6.170</td>\n",
       "    </tr>\n",
       "    <tr>\n",
       "      <th>2013-01</th>\n",
       "      <td>223.821473</td>\n",
       "      <td>6.237</td>\n",
       "    </tr>\n",
       "    <tr>\n",
       "      <th>2013-02</th>\n",
       "      <td>223.925989</td>\n",
       "      <td>6.237</td>\n",
       "    </tr>\n",
       "    <tr>\n",
       "      <th>2013-03</th>\n",
       "      <td>224.439928</td>\n",
       "      <td>6.237</td>\n",
       "    </tr>\n",
       "    <tr>\n",
       "      <th>2013-04</th>\n",
       "      <td>224.781713</td>\n",
       "      <td>6.112</td>\n",
       "    </tr>\n",
       "    <tr>\n",
       "      <th>2013-05</th>\n",
       "      <td>NaN</td>\n",
       "      <td>NaN</td>\n",
       "    </tr>\n",
       "    <tr>\n",
       "      <th>2013-06</th>\n",
       "      <td>NaN</td>\n",
       "      <td>NaN</td>\n",
       "    </tr>\n",
       "    <tr>\n",
       "      <th>2013-07</th>\n",
       "      <td>NaN</td>\n",
       "      <td>NaN</td>\n",
       "    </tr>\n",
       "  </tbody>\n",
       "</table>\n",
       "<p>84 rows × 2 columns</p>\n",
       "</div>"
      ],
      "text/plain": [
       "                      CPI  Unemployment\n",
       "Store Date                             \n",
       "1     2010-02  211.236828         8.106\n",
       "      2010-03  211.241116         8.106\n",
       "      2010-04  210.552135         7.808\n",
       "      2010-05  210.547812         7.808\n",
       "      2010-06  211.356237         7.808\n",
       "      2010-07  211.207476         7.787\n",
       "      2010-08  211.578688         7.787\n",
       "      2010-09  211.536531         7.787\n",
       "      2010-10  211.800525         7.838\n",
       "      2010-11  211.899611         7.838\n",
       "      2010-12  211.457702         7.838\n",
       "      2011-01  211.721611         7.742\n",
       "      2011-02  213.071770         7.742\n",
       "      2011-03  214.224260         7.742\n",
       "      2011-04  215.258255         7.682\n",
       "      2011-05  215.749441         7.682\n",
       "      2011-06  215.101584         7.682\n",
       "      2011-07  215.345630         7.962\n",
       "      2011-08  215.638236         7.962\n",
       "      2011-09  216.157134         7.962\n",
       "      2011-10  217.398324         7.866\n",
       "      2011-11  218.130899         7.866\n",
       "      2011-12  219.149949         7.866\n",
       "      2012-01  219.917832         7.348\n",
       "      2012-02  220.374964         7.348\n",
       "      2012-03  221.153294         7.348\n",
       "      2012-04  221.531958         7.143\n",
       "      2012-05  221.721270         7.143\n",
       "      2012-06  221.781152         7.143\n",
       "      2012-07  221.920490         6.908\n",
       "...                   ...           ...\n",
       "2     2011-02  212.727665         8.028\n",
       "      2011-03  213.877488         8.028\n",
       "      2011-04  214.908582         7.931\n",
       "      2011-05  215.398826         7.931\n",
       "      2011-06  214.754360         7.931\n",
       "      2011-07  214.998246         7.852\n",
       "      2011-08  215.291750         7.852\n",
       "      2011-09  215.810080         7.852\n",
       "      2011-10  217.047711         7.441\n",
       "      2011-11  217.777737         7.441\n",
       "      2011-12  218.792544         7.441\n",
       "      2012-01  219.558147         7.057\n",
       "      2012-02  220.014484         7.057\n",
       "      2012-03  220.791516         7.057\n",
       "      2012-04  221.170021         6.891\n",
       "      2012-05  221.358968         6.891\n",
       "      2012-06  221.419302         6.891\n",
       "      2012-07  221.557961         6.565\n",
       "      2012-08  221.721490         6.565\n",
       "      2012-09  222.331393         6.565\n",
       "      2012-10  222.992375         6.170\n",
       "      2012-11  223.159882         6.170\n",
       "      2012-12  223.427985         6.170\n",
       "      2013-01  223.821473         6.237\n",
       "      2013-02  223.925989         6.237\n",
       "      2013-03  224.439928         6.237\n",
       "      2013-04  224.781713         6.112\n",
       "      2013-05         NaN           NaN\n",
       "      2013-06         NaN           NaN\n",
       "      2013-07         NaN           NaN\n",
       "\n",
       "[84 rows x 2 columns]"
      ]
     },
     "execution_count": 32,
     "metadata": {},
     "output_type": "execute_result"
    }
   ],
   "source": [
    "features[['CPI','Unemployment']].groupby([features['Store'], features['Date'].str.slice(start=0, stop=7)]).mean().head(84)"
   ]
  },
  {
   "cell_type": "code",
   "execution_count": 33,
   "metadata": {},
   "outputs": [
    {
     "data": {
      "text/html": [
       "<div>\n",
       "<style scoped>\n",
       "    .dataframe tbody tr th:only-of-type {\n",
       "        vertical-align: middle;\n",
       "    }\n",
       "\n",
       "    .dataframe tbody tr th {\n",
       "        vertical-align: top;\n",
       "    }\n",
       "\n",
       "    .dataframe thead th {\n",
       "        text-align: right;\n",
       "    }\n",
       "</style>\n",
       "<table border=\"1\" class=\"dataframe\">\n",
       "  <thead>\n",
       "    <tr style=\"text-align: right;\">\n",
       "      <th></th>\n",
       "      <th>MarkDown1</th>\n",
       "      <th>MarkDown2</th>\n",
       "      <th>MarkDown3</th>\n",
       "      <th>MarkDown4</th>\n",
       "      <th>MarkDown5</th>\n",
       "    </tr>\n",
       "    <tr>\n",
       "      <th>Date</th>\n",
       "      <th></th>\n",
       "      <th></th>\n",
       "      <th></th>\n",
       "      <th></th>\n",
       "      <th></th>\n",
       "    </tr>\n",
       "  </thead>\n",
       "  <tbody>\n",
       "    <tr>\n",
       "      <th>2010-02</th>\n",
       "      <td>0</td>\n",
       "      <td>0</td>\n",
       "      <td>0</td>\n",
       "      <td>0</td>\n",
       "      <td>0</td>\n",
       "    </tr>\n",
       "    <tr>\n",
       "      <th>2010-03</th>\n",
       "      <td>0</td>\n",
       "      <td>0</td>\n",
       "      <td>0</td>\n",
       "      <td>0</td>\n",
       "      <td>0</td>\n",
       "    </tr>\n",
       "    <tr>\n",
       "      <th>2010-04</th>\n",
       "      <td>0</td>\n",
       "      <td>0</td>\n",
       "      <td>0</td>\n",
       "      <td>0</td>\n",
       "      <td>0</td>\n",
       "    </tr>\n",
       "    <tr>\n",
       "      <th>2010-05</th>\n",
       "      <td>0</td>\n",
       "      <td>0</td>\n",
       "      <td>0</td>\n",
       "      <td>0</td>\n",
       "      <td>0</td>\n",
       "    </tr>\n",
       "    <tr>\n",
       "      <th>2010-06</th>\n",
       "      <td>0</td>\n",
       "      <td>0</td>\n",
       "      <td>0</td>\n",
       "      <td>0</td>\n",
       "      <td>0</td>\n",
       "    </tr>\n",
       "    <tr>\n",
       "      <th>2010-07</th>\n",
       "      <td>0</td>\n",
       "      <td>0</td>\n",
       "      <td>0</td>\n",
       "      <td>0</td>\n",
       "      <td>0</td>\n",
       "    </tr>\n",
       "    <tr>\n",
       "      <th>2010-08</th>\n",
       "      <td>0</td>\n",
       "      <td>0</td>\n",
       "      <td>0</td>\n",
       "      <td>0</td>\n",
       "      <td>0</td>\n",
       "    </tr>\n",
       "    <tr>\n",
       "      <th>2010-09</th>\n",
       "      <td>0</td>\n",
       "      <td>0</td>\n",
       "      <td>0</td>\n",
       "      <td>0</td>\n",
       "      <td>0</td>\n",
       "    </tr>\n",
       "    <tr>\n",
       "      <th>2010-10</th>\n",
       "      <td>0</td>\n",
       "      <td>0</td>\n",
       "      <td>0</td>\n",
       "      <td>0</td>\n",
       "      <td>0</td>\n",
       "    </tr>\n",
       "    <tr>\n",
       "      <th>2010-11</th>\n",
       "      <td>0</td>\n",
       "      <td>0</td>\n",
       "      <td>0</td>\n",
       "      <td>0</td>\n",
       "      <td>0</td>\n",
       "    </tr>\n",
       "    <tr>\n",
       "      <th>2010-12</th>\n",
       "      <td>0</td>\n",
       "      <td>0</td>\n",
       "      <td>0</td>\n",
       "      <td>0</td>\n",
       "      <td>0</td>\n",
       "    </tr>\n",
       "    <tr>\n",
       "      <th>2011-01</th>\n",
       "      <td>0</td>\n",
       "      <td>0</td>\n",
       "      <td>0</td>\n",
       "      <td>0</td>\n",
       "      <td>0</td>\n",
       "    </tr>\n",
       "    <tr>\n",
       "      <th>2011-02</th>\n",
       "      <td>0</td>\n",
       "      <td>0</td>\n",
       "      <td>0</td>\n",
       "      <td>0</td>\n",
       "      <td>0</td>\n",
       "    </tr>\n",
       "    <tr>\n",
       "      <th>2011-03</th>\n",
       "      <td>0</td>\n",
       "      <td>0</td>\n",
       "      <td>0</td>\n",
       "      <td>0</td>\n",
       "      <td>0</td>\n",
       "    </tr>\n",
       "    <tr>\n",
       "      <th>2011-04</th>\n",
       "      <td>0</td>\n",
       "      <td>0</td>\n",
       "      <td>0</td>\n",
       "      <td>0</td>\n",
       "      <td>0</td>\n",
       "    </tr>\n",
       "    <tr>\n",
       "      <th>2011-05</th>\n",
       "      <td>0</td>\n",
       "      <td>0</td>\n",
       "      <td>0</td>\n",
       "      <td>0</td>\n",
       "      <td>0</td>\n",
       "    </tr>\n",
       "    <tr>\n",
       "      <th>2011-06</th>\n",
       "      <td>0</td>\n",
       "      <td>0</td>\n",
       "      <td>0</td>\n",
       "      <td>0</td>\n",
       "      <td>0</td>\n",
       "    </tr>\n",
       "    <tr>\n",
       "      <th>2011-07</th>\n",
       "      <td>0</td>\n",
       "      <td>0</td>\n",
       "      <td>0</td>\n",
       "      <td>0</td>\n",
       "      <td>0</td>\n",
       "    </tr>\n",
       "    <tr>\n",
       "      <th>2011-08</th>\n",
       "      <td>0</td>\n",
       "      <td>0</td>\n",
       "      <td>0</td>\n",
       "      <td>0</td>\n",
       "      <td>0</td>\n",
       "    </tr>\n",
       "    <tr>\n",
       "      <th>2011-09</th>\n",
       "      <td>0</td>\n",
       "      <td>0</td>\n",
       "      <td>0</td>\n",
       "      <td>0</td>\n",
       "      <td>0</td>\n",
       "    </tr>\n",
       "    <tr>\n",
       "      <th>2011-10</th>\n",
       "      <td>0</td>\n",
       "      <td>0</td>\n",
       "      <td>0</td>\n",
       "      <td>0</td>\n",
       "      <td>0</td>\n",
       "    </tr>\n",
       "    <tr>\n",
       "      <th>2011-11</th>\n",
       "      <td>134</td>\n",
       "      <td>124</td>\n",
       "      <td>124</td>\n",
       "      <td>110</td>\n",
       "      <td>135</td>\n",
       "    </tr>\n",
       "    <tr>\n",
       "      <th>2011-12</th>\n",
       "      <td>220</td>\n",
       "      <td>169</td>\n",
       "      <td>218</td>\n",
       "      <td>192</td>\n",
       "      <td>225</td>\n",
       "    </tr>\n",
       "    <tr>\n",
       "      <th>2012-01</th>\n",
       "      <td>180</td>\n",
       "      <td>179</td>\n",
       "      <td>155</td>\n",
       "      <td>150</td>\n",
       "      <td>180</td>\n",
       "    </tr>\n",
       "    <tr>\n",
       "      <th>2012-02</th>\n",
       "      <td>180</td>\n",
       "      <td>179</td>\n",
       "      <td>159</td>\n",
       "      <td>160</td>\n",
       "      <td>180</td>\n",
       "    </tr>\n",
       "    <tr>\n",
       "      <th>2012-03</th>\n",
       "      <td>224</td>\n",
       "      <td>210</td>\n",
       "      <td>198</td>\n",
       "      <td>195</td>\n",
       "      <td>225</td>\n",
       "    </tr>\n",
       "    <tr>\n",
       "      <th>2012-04</th>\n",
       "      <td>180</td>\n",
       "      <td>122</td>\n",
       "      <td>170</td>\n",
       "      <td>155</td>\n",
       "      <td>180</td>\n",
       "    </tr>\n",
       "    <tr>\n",
       "      <th>2012-05</th>\n",
       "      <td>179</td>\n",
       "      <td>11</td>\n",
       "      <td>163</td>\n",
       "      <td>151</td>\n",
       "      <td>180</td>\n",
       "    </tr>\n",
       "    <tr>\n",
       "      <th>2012-06</th>\n",
       "      <td>224</td>\n",
       "      <td>172</td>\n",
       "      <td>160</td>\n",
       "      <td>192</td>\n",
       "      <td>225</td>\n",
       "    </tr>\n",
       "    <tr>\n",
       "      <th>2012-07</th>\n",
       "      <td>180</td>\n",
       "      <td>143</td>\n",
       "      <td>172</td>\n",
       "      <td>150</td>\n",
       "      <td>180</td>\n",
       "    </tr>\n",
       "    <tr>\n",
       "      <th>2012-08</th>\n",
       "      <td>222</td>\n",
       "      <td>168</td>\n",
       "      <td>212</td>\n",
       "      <td>207</td>\n",
       "      <td>225</td>\n",
       "    </tr>\n",
       "    <tr>\n",
       "      <th>2012-09</th>\n",
       "      <td>179</td>\n",
       "      <td>115</td>\n",
       "      <td>154</td>\n",
       "      <td>157</td>\n",
       "      <td>180</td>\n",
       "    </tr>\n",
       "    <tr>\n",
       "      <th>2012-10</th>\n",
       "      <td>178</td>\n",
       "      <td>45</td>\n",
       "      <td>161</td>\n",
       "      <td>146</td>\n",
       "      <td>180</td>\n",
       "    </tr>\n",
       "    <tr>\n",
       "      <th>2012-11</th>\n",
       "      <td>224</td>\n",
       "      <td>166</td>\n",
       "      <td>209</td>\n",
       "      <td>194</td>\n",
       "      <td>225</td>\n",
       "    </tr>\n",
       "    <tr>\n",
       "      <th>2012-12</th>\n",
       "      <td>180</td>\n",
       "      <td>67</td>\n",
       "      <td>168</td>\n",
       "      <td>153</td>\n",
       "      <td>180</td>\n",
       "    </tr>\n",
       "    <tr>\n",
       "      <th>2013-01</th>\n",
       "      <td>180</td>\n",
       "      <td>180</td>\n",
       "      <td>148</td>\n",
       "      <td>147</td>\n",
       "      <td>180</td>\n",
       "    </tr>\n",
       "    <tr>\n",
       "      <th>2013-02</th>\n",
       "      <td>180</td>\n",
       "      <td>179</td>\n",
       "      <td>155</td>\n",
       "      <td>167</td>\n",
       "      <td>180</td>\n",
       "    </tr>\n",
       "    <tr>\n",
       "      <th>2013-03</th>\n",
       "      <td>225</td>\n",
       "      <td>80</td>\n",
       "      <td>198</td>\n",
       "      <td>198</td>\n",
       "      <td>225</td>\n",
       "    </tr>\n",
       "    <tr>\n",
       "      <th>2013-04</th>\n",
       "      <td>180</td>\n",
       "      <td>132</td>\n",
       "      <td>160</td>\n",
       "      <td>150</td>\n",
       "      <td>180</td>\n",
       "    </tr>\n",
       "    <tr>\n",
       "      <th>2013-05</th>\n",
       "      <td>225</td>\n",
       "      <td>181</td>\n",
       "      <td>213</td>\n",
       "      <td>186</td>\n",
       "      <td>225</td>\n",
       "    </tr>\n",
       "    <tr>\n",
       "      <th>2013-06</th>\n",
       "      <td>179</td>\n",
       "      <td>148</td>\n",
       "      <td>154</td>\n",
       "      <td>153</td>\n",
       "      <td>180</td>\n",
       "    </tr>\n",
       "    <tr>\n",
       "      <th>2013-07</th>\n",
       "      <td>179</td>\n",
       "      <td>151</td>\n",
       "      <td>162</td>\n",
       "      <td>151</td>\n",
       "      <td>180</td>\n",
       "    </tr>\n",
       "  </tbody>\n",
       "</table>\n",
       "</div>"
      ],
      "text/plain": [
       "         MarkDown1  MarkDown2  MarkDown3  MarkDown4  MarkDown5\n",
       "Date                                                          \n",
       "2010-02          0          0          0          0          0\n",
       "2010-03          0          0          0          0          0\n",
       "2010-04          0          0          0          0          0\n",
       "2010-05          0          0          0          0          0\n",
       "2010-06          0          0          0          0          0\n",
       "2010-07          0          0          0          0          0\n",
       "2010-08          0          0          0          0          0\n",
       "2010-09          0          0          0          0          0\n",
       "2010-10          0          0          0          0          0\n",
       "2010-11          0          0          0          0          0\n",
       "2010-12          0          0          0          0          0\n",
       "2011-01          0          0          0          0          0\n",
       "2011-02          0          0          0          0          0\n",
       "2011-03          0          0          0          0          0\n",
       "2011-04          0          0          0          0          0\n",
       "2011-05          0          0          0          0          0\n",
       "2011-06          0          0          0          0          0\n",
       "2011-07          0          0          0          0          0\n",
       "2011-08          0          0          0          0          0\n",
       "2011-09          0          0          0          0          0\n",
       "2011-10          0          0          0          0          0\n",
       "2011-11        134        124        124        110        135\n",
       "2011-12        220        169        218        192        225\n",
       "2012-01        180        179        155        150        180\n",
       "2012-02        180        179        159        160        180\n",
       "2012-03        224        210        198        195        225\n",
       "2012-04        180        122        170        155        180\n",
       "2012-05        179         11        163        151        180\n",
       "2012-06        224        172        160        192        225\n",
       "2012-07        180        143        172        150        180\n",
       "2012-08        222        168        212        207        225\n",
       "2012-09        179        115        154        157        180\n",
       "2012-10        178         45        161        146        180\n",
       "2012-11        224        166        209        194        225\n",
       "2012-12        180         67        168        153        180\n",
       "2013-01        180        180        148        147        180\n",
       "2013-02        180        179        155        167        180\n",
       "2013-03        225         80        198        198        225\n",
       "2013-04        180        132        160        150        180\n",
       "2013-05        225        181        213        186        225\n",
       "2013-06        179        148        154        153        180\n",
       "2013-07        179        151        162        151        180"
      ]
     },
     "execution_count": 33,
     "metadata": {},
     "output_type": "execute_result"
    }
   ],
   "source": [
    "features.groupby(features['Date'].str.slice(start=0, stop=7))['MarkDown1','MarkDown2','MarkDown3','MarkDown4','MarkDown5'].count()"
   ]
  },
  {
   "cell_type": "code",
   "execution_count": 55,
   "metadata": {},
   "outputs": [
    {
     "data": {
      "image/png": "[encoded data removed]",
      "text/plain": [
       "<Figure size 792x360 with 2 Axes>"
      ]
     },
     "metadata": {},
     "output_type": "display_data"
    }
   ],
   "source": [
    "#Explore Distribution\n",
    "distribution(features, ['CPI','Unemployment'])"
   ]
  },
  {
   "cell_type": "code",
   "execution_count": 56,
   "metadata": {},
   "outputs": [
    {
     "data": {
      "image/png": "[encoded data removed]",
      "text/plain": [
       "<Figure size 792x360 with 2 Axes>"
      ]
     },
     "metadata": {},
     "output_type": "display_data"
    }
   ],
   "source": [
    "#Explore Distribution\n",
    "distribution(features, ['Temperature','Fuel_Price'])"
   ]
  },
  {
   "cell_type": "code",
   "execution_count": 57,
   "metadata": {},
   "outputs": [
    {
     "data": {
      "image/png": "[encoded data removed]",
      "text/plain": [
       "<Figure size 792x360 with 2 Axes>"
      ]
     },
     "metadata": {},
     "output_type": "display_data"
    }
   ],
   "source": [
    "#Explore Distribution\n",
    "distribution(features, ['MarkDown1','MarkDown2'])"
   ]
  },
  {
   "cell_type": "code",
   "execution_count": 58,
   "metadata": {},
   "outputs": [
    {
     "data": {
      "image/png": "[encoded data removed]",
      "text/plain": [
       "<Figure size 792x360 with 2 Axes>"
      ]
     },
     "metadata": {},
     "output_type": "display_data"
    }
   ],
   "source": [
    "#Explore Distribution\n",
    "distribution(features, ['MarkDown3','MarkDown4'])"
   ]
  },
  {
   "cell_type": "code",
   "execution_count": 59,
   "metadata": {},
   "outputs": [
    {
     "data": {
      "image/png": "[encoded data removed]",
      "text/plain": [
       "<Figure size 792x360 with 1 Axes>"
      ]
     },
     "metadata": {},
     "output_type": "display_data"
    }
   ],
   "source": [
    "#Explore Distribution\n",
    "distribution(features, ['MarkDown5'])"
   ]
  },
  {
   "cell_type": "markdown",
   "metadata": {},
   "source": [
    "###### Takeaways: \n",
    "1. Data requires pre-processing\n",
    "2. Column(s) ISHOLIDAY has been validated\n",
    "3. Column(s) UNEMPLOYMENT & CPI have missing values for May, Jun & Jul 2013. For these columns as the values dont change significantly month on month, value from Apr 2013 would be propogated over for each store. \n",
    "4. Column(s) MARKDOWN* have missing values for 2010 (entire year) and 2011 (until Nov). Additionally, there are missing values for other other dates as well. \n",
    "5. CPI and UNEMPLOYMENT value are a bit skewed. MARKDOWN* columns are skewed. "
   ]
  },
  {
   "cell_type": "markdown",
   "metadata": {},
   "source": [
    "## 3. Train Data"
   ]
  },
  {
   "cell_type": "code",
   "execution_count": 34,
   "metadata": {},
   "outputs": [
    {
     "data": {
      "text/html": [
       "<div>\n",
       "<style scoped>\n",
       "    .dataframe tbody tr th:only-of-type {\n",
       "        vertical-align: middle;\n",
       "    }\n",
       "\n",
       "    .dataframe tbody tr th {\n",
       "        vertical-align: top;\n",
       "    }\n",
       "\n",
       "    .dataframe thead th {\n",
       "        text-align: right;\n",
       "    }\n",
       "</style>\n",
       "<table border=\"1\" class=\"dataframe\">\n",
       "  <thead>\n",
       "    <tr style=\"text-align: right;\">\n",
       "      <th></th>\n",
       "      <th>Store</th>\n",
       "      <th>Dept</th>\n",
       "      <th>Date</th>\n",
       "      <th>Weekly_Sales</th>\n",
       "      <th>IsHoliday</th>\n",
       "    </tr>\n",
       "  </thead>\n",
       "  <tbody>\n",
       "    <tr>\n",
       "      <th>0</th>\n",
       "      <td>1</td>\n",
       "      <td>1</td>\n",
       "      <td>2010-02-05</td>\n",
       "      <td>24924.500000</td>\n",
       "      <td>False</td>\n",
       "    </tr>\n",
       "    <tr>\n",
       "      <th>1</th>\n",
       "      <td>1</td>\n",
       "      <td>1</td>\n",
       "      <td>2010-02-12</td>\n",
       "      <td>46039.488281</td>\n",
       "      <td>True</td>\n",
       "    </tr>\n",
       "    <tr>\n",
       "      <th>2</th>\n",
       "      <td>1</td>\n",
       "      <td>1</td>\n",
       "      <td>2010-02-19</td>\n",
       "      <td>41595.550781</td>\n",
       "      <td>False</td>\n",
       "    </tr>\n",
       "    <tr>\n",
       "      <th>3</th>\n",
       "      <td>1</td>\n",
       "      <td>1</td>\n",
       "      <td>2010-02-26</td>\n",
       "      <td>19403.539062</td>\n",
       "      <td>False</td>\n",
       "    </tr>\n",
       "    <tr>\n",
       "      <th>4</th>\n",
       "      <td>1</td>\n",
       "      <td>1</td>\n",
       "      <td>2010-03-05</td>\n",
       "      <td>21827.900391</td>\n",
       "      <td>False</td>\n",
       "    </tr>\n",
       "  </tbody>\n",
       "</table>\n",
       "</div>"
      ],
      "text/plain": [
       "   Store  Dept        Date  Weekly_Sales  IsHoliday\n",
       "0      1     1  2010-02-05  24924.500000      False\n",
       "1      1     1  2010-02-12  46039.488281       True\n",
       "2      1     1  2010-02-19  41595.550781      False\n",
       "3      1     1  2010-02-26  19403.539062      False\n",
       "4      1     1  2010-03-05  21827.900391      False"
      ]
     },
     "execution_count": 34,
     "metadata": {},
     "output_type": "execute_result"
    }
   ],
   "source": [
    "train.head()"
   ]
  },
  {
   "cell_type": "code",
   "execution_count": 35,
   "metadata": {},
   "outputs": [
    {
     "name": "stdout",
     "output_type": "stream",
     "text": [
      "<class 'pandas.core.frame.DataFrame'>\n",
      "RangeIndex: 421570 entries, 0 to 421569\n",
      "Data columns (total 5 columns):\n",
      "Store           421570 non-null int8\n",
      "Dept            421570 non-null int8\n",
      "Date            421570 non-null object\n",
      "Weekly_Sales    421570 non-null float32\n",
      "IsHoliday       421570 non-null bool\n",
      "dtypes: bool(1), float32(1), int8(2), object(1)\n",
      "memory usage: 6.0+ MB\n"
     ]
    }
   ],
   "source": [
    "train.info()"
   ]
  },
  {
   "cell_type": "code",
   "execution_count": 36,
   "metadata": {},
   "outputs": [
    {
     "data": {
      "text/html": [
       "<div>\n",
       "<style scoped>\n",
       "    .dataframe tbody tr th:only-of-type {\n",
       "        vertical-align: middle;\n",
       "    }\n",
       "\n",
       "    .dataframe tbody tr th {\n",
       "        vertical-align: top;\n",
       "    }\n",
       "\n",
       "    .dataframe thead th {\n",
       "        text-align: right;\n",
       "    }\n",
       "</style>\n",
       "<table border=\"1\" class=\"dataframe\">\n",
       "  <thead>\n",
       "    <tr style=\"text-align: right;\">\n",
       "      <th></th>\n",
       "      <th>Store</th>\n",
       "      <th>Dept</th>\n",
       "      <th>Weekly_Sales</th>\n",
       "    </tr>\n",
       "  </thead>\n",
       "  <tbody>\n",
       "    <tr>\n",
       "      <th>count</th>\n",
       "      <td>421570.000000</td>\n",
       "      <td>421570.000000</td>\n",
       "      <td>421570.000000</td>\n",
       "    </tr>\n",
       "    <tr>\n",
       "      <th>mean</th>\n",
       "      <td>22.200546</td>\n",
       "      <td>44.260317</td>\n",
       "      <td>15978.299805</td>\n",
       "    </tr>\n",
       "    <tr>\n",
       "      <th>std</th>\n",
       "      <td>12.785297</td>\n",
       "      <td>30.492054</td>\n",
       "      <td>22707.693359</td>\n",
       "    </tr>\n",
       "    <tr>\n",
       "      <th>min</th>\n",
       "      <td>1.000000</td>\n",
       "      <td>1.000000</td>\n",
       "      <td>-4988.939941</td>\n",
       "    </tr>\n",
       "    <tr>\n",
       "      <th>25%</th>\n",
       "      <td>11.000000</td>\n",
       "      <td>18.000000</td>\n",
       "      <td>2079.649902</td>\n",
       "    </tr>\n",
       "    <tr>\n",
       "      <th>50%</th>\n",
       "      <td>22.000000</td>\n",
       "      <td>37.000000</td>\n",
       "      <td>7612.029785</td>\n",
       "    </tr>\n",
       "    <tr>\n",
       "      <th>75%</th>\n",
       "      <td>33.000000</td>\n",
       "      <td>74.000000</td>\n",
       "      <td>20205.852051</td>\n",
       "    </tr>\n",
       "    <tr>\n",
       "      <th>max</th>\n",
       "      <td>45.000000</td>\n",
       "      <td>99.000000</td>\n",
       "      <td>693099.375000</td>\n",
       "    </tr>\n",
       "  </tbody>\n",
       "</table>\n",
       "</div>"
      ],
      "text/plain": [
       "               Store           Dept   Weekly_Sales\n",
       "count  421570.000000  421570.000000  421570.000000\n",
       "mean       22.200546      44.260317   15978.299805\n",
       "std        12.785297      30.492054   22707.693359\n",
       "min         1.000000       1.000000   -4988.939941\n",
       "25%        11.000000      18.000000    2079.649902\n",
       "50%        22.000000      37.000000    7612.029785\n",
       "75%        33.000000      74.000000   20205.852051\n",
       "max        45.000000      99.000000  693099.375000"
      ]
     },
     "execution_count": 36,
     "metadata": {},
     "output_type": "execute_result"
    }
   ],
   "source": [
    "train.describe()"
   ]
  },
  {
   "cell_type": "code",
   "execution_count": 37,
   "metadata": {},
   "outputs": [
    {
     "data": {
      "text/plain": [
       "2011    153453\n",
       "2010    140679\n",
       "2012    127438\n",
       "Name: Date, dtype: int64"
      ]
     },
     "execution_count": 37,
     "metadata": {},
     "output_type": "execute_result"
    }
   ],
   "source": [
    "# Explore Date Range\n",
    "train['Date'].str.slice(start=0, stop=4).value_counts()"
   ]
  },
  {
   "cell_type": "code",
   "execution_count": 38,
   "metadata": {},
   "outputs": [
    {
     "data": {
      "text/plain": [
       "True    29661\n",
       "Name: IsHoliday, dtype: int64"
      ]
     },
     "execution_count": 38,
     "metadata": {},
     "output_type": "execute_result"
    }
   ],
   "source": [
    "# Validate Holidays\n",
    "train['IsHoliday'][train['Date'].isin(holidays)].value_counts()"
   ]
  },
  {
   "cell_type": "code",
   "execution_count": 39,
   "metadata": {},
   "outputs": [
    {
     "data": {
      "text/plain": [
       "Series([], Name: Date, dtype: int64)"
      ]
     },
     "execution_count": 39,
     "metadata": {},
     "output_type": "execute_result"
    }
   ],
   "source": [
    "train['Date'][train['IsHoliday'].isin([1])][~train['Date'].isin(holidays)].value_counts()"
   ]
  },
  {
   "cell_type": "code",
   "execution_count": 53,
   "metadata": {},
   "outputs": [
    {
     "data": {
      "image/png": "[encoded data removed]",
      "text/plain": [
       "<Figure size 792x360 with 1 Axes>"
      ]
     },
     "metadata": {},
     "output_type": "display_data"
    }
   ],
   "source": [
    "#Explore Distribution\n",
    "distribution(train, ['Weekly_Sales'])"
   ]
  },
  {
   "cell_type": "code",
   "execution_count": 41,
   "metadata": {},
   "outputs": [
    {
     "data": {
      "text/plain": [
       "1285"
      ]
     },
     "execution_count": 41,
     "metadata": {},
     "output_type": "execute_result"
    }
   ],
   "source": [
    "train['Store'][train['Weekly_Sales'] < 0].count()"
   ]
  },
  {
   "cell_type": "code",
   "execution_count": 42,
   "metadata": {},
   "outputs": [],
   "source": [
    "train_outliers = pd.merge(train, stores, how='left', on=['Store'])"
   ]
  },
  {
   "cell_type": "code",
   "execution_count": 43,
   "metadata": {},
   "outputs": [
    {
     "data": {
      "text/plain": [
       "Type\n",
       "A    20099.568359\n",
       "B    12237.076172\n",
       "C     9519.532227\n",
       "Name: Weekly_Sales, dtype: float32"
      ]
     },
     "execution_count": 43,
     "metadata": {},
     "output_type": "execute_result"
    }
   ],
   "source": [
    "# Average Weekly Sales by Store Type\n",
    "train_outliers.groupby(['Type'])['Weekly_Sales'].mean()"
   ]
  },
  {
   "cell_type": "code",
   "execution_count": 44,
   "metadata": {},
   "outputs": [
    {
     "data": {
      "text/plain": [
       "Store  Type\n",
       "3      B       6373.034180\n",
       "5      B       5053.416016\n",
       "33     A       5728.414062\n",
       "36     A       8584.412109\n",
       "Name: Weekly_Sales, dtype: float32"
      ]
     },
     "execution_count": 44,
     "metadata": {},
     "output_type": "execute_result"
    }
   ],
   "source": [
    "# Average Weekly Sales for possibly misclassified Stores\n",
    "train_outliers = train_outliers[train_outliers['Store'].isin([3,5,33,36])]\n",
    "train_outliers.groupby(['Store','Type'])['Weekly_Sales'].mean()"
   ]
  },
  {
   "cell_type": "code",
   "execution_count": 45,
   "metadata": {},
   "outputs": [
    {
     "data": {
      "image/png": "[encoded data removed]",
      "text/plain": [
       "<Figure size 1080x432 with 2 Axes>"
      ]
     },
     "metadata": {},
     "output_type": "display_data"
    }
   ],
   "source": [
    "# Average Weekly Sales by Store Type\n",
    "fig, ax = plt.subplots(1, 2, figsize = (15,6))\n",
    "ax[0].bar(train_outliers['Type'].unique(), train_outliers.groupby(['Type'])['Weekly_Sales'].mean())\n",
    "ax[0].set_ylabel('Average Weekly Sales')\n",
    "ax[0].set_xlabel('Store Type')\n",
    "ax[0].yaxis.grid(True, linewidth=0.3)\n",
    "\n",
    "ax[1].bar([3,5,33,36], train_outliers.groupby(['Store','Type'])['Weekly_Sales'].mean())\n",
    "ax[1].set_ylabel('Average Weekly Sales')\n",
    "ax[1].set_xlabel('Store ID')\n",
    "ax[1].yaxis.grid(True, linewidth=0.3)"
   ]
  },
  {
   "cell_type": "code",
   "execution_count": 46,
   "metadata": {},
   "outputs": [],
   "source": [
    "train_outliers = None"
   ]
  },
  {
   "cell_type": "markdown",
   "metadata": {},
   "source": [
    "###### Takeaways: \n",
    "1. Column DATE is non-numeric and is a candidate for pre-processing.\n",
    "2. 1285 records with Weekly Sales < 0\n",
    "3. Data spans years 2010, 2011 and 2012\n",
    "4. As suspected above, four stores [3, 5, 33 & 36] seem to have incorrectly classified as Type A & B. Average Weekly Sales for these stores is in line with the average for Type C. Hence, these would need to be reclassified as Type C."
   ]
  },
  {
   "cell_type": "markdown",
   "metadata": {},
   "source": [
    "## 4. Test Data"
   ]
  },
  {
   "cell_type": "code",
   "execution_count": 47,
   "metadata": {},
   "outputs": [
    {
     "data": {
      "text/html": [
       "<div>\n",
       "<style scoped>\n",
       "    .dataframe tbody tr th:only-of-type {\n",
       "        vertical-align: middle;\n",
       "    }\n",
       "\n",
       "    .dataframe tbody tr th {\n",
       "        vertical-align: top;\n",
       "    }\n",
       "\n",
       "    .dataframe thead th {\n",
       "        text-align: right;\n",
       "    }\n",
       "</style>\n",
       "<table border=\"1\" class=\"dataframe\">\n",
       "  <thead>\n",
       "    <tr style=\"text-align: right;\">\n",
       "      <th></th>\n",
       "      <th>Store</th>\n",
       "      <th>Dept</th>\n",
       "      <th>Date</th>\n",
       "      <th>IsHoliday</th>\n",
       "    </tr>\n",
       "  </thead>\n",
       "  <tbody>\n",
       "    <tr>\n",
       "      <th>0</th>\n",
       "      <td>1</td>\n",
       "      <td>1</td>\n",
       "      <td>2012-11-02</td>\n",
       "      <td>False</td>\n",
       "    </tr>\n",
       "    <tr>\n",
       "      <th>1</th>\n",
       "      <td>1</td>\n",
       "      <td>1</td>\n",
       "      <td>2012-11-09</td>\n",
       "      <td>False</td>\n",
       "    </tr>\n",
       "    <tr>\n",
       "      <th>2</th>\n",
       "      <td>1</td>\n",
       "      <td>1</td>\n",
       "      <td>2012-11-16</td>\n",
       "      <td>False</td>\n",
       "    </tr>\n",
       "    <tr>\n",
       "      <th>3</th>\n",
       "      <td>1</td>\n",
       "      <td>1</td>\n",
       "      <td>2012-11-23</td>\n",
       "      <td>True</td>\n",
       "    </tr>\n",
       "    <tr>\n",
       "      <th>4</th>\n",
       "      <td>1</td>\n",
       "      <td>1</td>\n",
       "      <td>2012-11-30</td>\n",
       "      <td>False</td>\n",
       "    </tr>\n",
       "  </tbody>\n",
       "</table>\n",
       "</div>"
      ],
      "text/plain": [
       "   Store  Dept        Date  IsHoliday\n",
       "0      1     1  2012-11-02      False\n",
       "1      1     1  2012-11-09      False\n",
       "2      1     1  2012-11-16      False\n",
       "3      1     1  2012-11-23       True\n",
       "4      1     1  2012-11-30      False"
      ]
     },
     "execution_count": 47,
     "metadata": {},
     "output_type": "execute_result"
    }
   ],
   "source": [
    "test.head()"
   ]
  },
  {
   "cell_type": "code",
   "execution_count": 48,
   "metadata": {},
   "outputs": [
    {
     "name": "stdout",
     "output_type": "stream",
     "text": [
      "<class 'pandas.core.frame.DataFrame'>\n",
      "RangeIndex: 115064 entries, 0 to 115063\n",
      "Data columns (total 4 columns):\n",
      "Store        115064 non-null int8\n",
      "Dept         115064 non-null int8\n",
      "Date         115064 non-null object\n",
      "IsHoliday    115064 non-null bool\n",
      "dtypes: bool(1), int8(2), object(1)\n",
      "memory usage: 1.2+ MB\n"
     ]
    }
   ],
   "source": [
    "test.info()"
   ]
  },
  {
   "cell_type": "code",
   "execution_count": 49,
   "metadata": {},
   "outputs": [
    {
     "data": {
      "text/html": [
       "<div>\n",
       "<style scoped>\n",
       "    .dataframe tbody tr th:only-of-type {\n",
       "        vertical-align: middle;\n",
       "    }\n",
       "\n",
       "    .dataframe tbody tr th {\n",
       "        vertical-align: top;\n",
       "    }\n",
       "\n",
       "    .dataframe thead th {\n",
       "        text-align: right;\n",
       "    }\n",
       "</style>\n",
       "<table border=\"1\" class=\"dataframe\">\n",
       "  <thead>\n",
       "    <tr style=\"text-align: right;\">\n",
       "      <th></th>\n",
       "      <th>Store</th>\n",
       "      <th>Dept</th>\n",
       "    </tr>\n",
       "  </thead>\n",
       "  <tbody>\n",
       "    <tr>\n",
       "      <th>count</th>\n",
       "      <td>115064.000000</td>\n",
       "      <td>115064.000000</td>\n",
       "    </tr>\n",
       "    <tr>\n",
       "      <th>mean</th>\n",
       "      <td>22.238207</td>\n",
       "      <td>44.339524</td>\n",
       "    </tr>\n",
       "    <tr>\n",
       "      <th>std</th>\n",
       "      <td>12.809930</td>\n",
       "      <td>30.656410</td>\n",
       "    </tr>\n",
       "    <tr>\n",
       "      <th>min</th>\n",
       "      <td>1.000000</td>\n",
       "      <td>1.000000</td>\n",
       "    </tr>\n",
       "    <tr>\n",
       "      <th>25%</th>\n",
       "      <td>11.000000</td>\n",
       "      <td>18.000000</td>\n",
       "    </tr>\n",
       "    <tr>\n",
       "      <th>50%</th>\n",
       "      <td>22.000000</td>\n",
       "      <td>37.000000</td>\n",
       "    </tr>\n",
       "    <tr>\n",
       "      <th>75%</th>\n",
       "      <td>33.000000</td>\n",
       "      <td>74.000000</td>\n",
       "    </tr>\n",
       "    <tr>\n",
       "      <th>max</th>\n",
       "      <td>45.000000</td>\n",
       "      <td>99.000000</td>\n",
       "    </tr>\n",
       "  </tbody>\n",
       "</table>\n",
       "</div>"
      ],
      "text/plain": [
       "               Store           Dept\n",
       "count  115064.000000  115064.000000\n",
       "mean       22.238207      44.339524\n",
       "std        12.809930      30.656410\n",
       "min         1.000000       1.000000\n",
       "25%        11.000000      18.000000\n",
       "50%        22.000000      37.000000\n",
       "75%        33.000000      74.000000\n",
       "max        45.000000      99.000000"
      ]
     },
     "execution_count": 49,
     "metadata": {},
     "output_type": "execute_result"
    }
   ],
   "source": [
    "test.describe()"
   ]
  },
  {
   "cell_type": "code",
   "execution_count": 50,
   "metadata": {},
   "outputs": [
    {
     "data": {
      "text/plain": [
       "2013    88275\n",
       "2012    26789\n",
       "Name: Date, dtype: int64"
      ]
     },
     "execution_count": 50,
     "metadata": {},
     "output_type": "execute_result"
    }
   ],
   "source": [
    "test['Date'].str.slice(start=0, stop=4).value_counts()"
   ]
  },
  {
   "cell_type": "code",
   "execution_count": 51,
   "metadata": {},
   "outputs": [
    {
     "data": {
      "text/plain": [
       "True    8928\n",
       "Name: IsHoliday, dtype: int64"
      ]
     },
     "execution_count": 51,
     "metadata": {},
     "output_type": "execute_result"
    }
   ],
   "source": [
    "# Validate Holidays\n",
    "test['IsHoliday'][test['Date'].isin(holidays)].value_counts()"
   ]
  },
  {
   "cell_type": "code",
   "execution_count": 52,
   "metadata": {},
   "outputs": [
    {
     "data": {
      "text/plain": [
       "Series([], Name: Date, dtype: int64)"
      ]
     },
     "execution_count": 52,
     "metadata": {},
     "output_type": "execute_result"
    }
   ],
   "source": [
    "test['Date'][test['IsHoliday'].isin([1])][~test['Date'].isin(holidays)].value_counts()"
   ]
  },
  {
   "cell_type": "markdown",
   "metadata": {},
   "source": [
    "###### Takeaways: \n",
    "1. Column DATE is non-numeric and is a candidate for pre-processing.\n",
    "2. Data spans years 2012 and 2013"
   ]
  },
  {
   "cell_type": "markdown",
   "metadata": {},
   "source": [
    "# Data Pre-Processing"
   ]
  },
  {
   "cell_type": "markdown",
   "metadata": {},
   "source": [
    "## 1. Missing/Incorrect Values"
   ]
  },
  {
   "cell_type": "markdown",
   "metadata": {},
   "source": [
    "### Stores Data | Correct Type for 4 stores"
   ]
  },
  {
   "cell_type": "code",
   "execution_count": 53,
   "metadata": {},
   "outputs": [
    {
     "data": {
      "text/plain": [
       "Int64Index([2, 4, 32, 35], dtype='int64')"
      ]
     },
     "execution_count": 53,
     "metadata": {},
     "output_type": "execute_result"
    }
   ],
   "source": [
    "stores[stores['Store'].isin([3,5,33,36])].index"
   ]
  },
  {
   "cell_type": "code",
   "execution_count": 54,
   "metadata": {},
   "outputs": [],
   "source": [
    "stores.iat[2, 1] = stores.iat[4, 1] = stores.iat[32, 1] = stores.iat[35, 1] = 'C'"
   ]
  },
  {
   "cell_type": "markdown",
   "metadata": {},
   "source": [
    "### Features Data | Negative values for MarkDowns:"
   ]
  },
  {
   "cell_type": "code",
   "execution_count": 55,
   "metadata": {},
   "outputs": [],
   "source": [
    "features['MarkDown1'] = features['MarkDown1'].apply(lambda x: 0 if x < 0 else x)\n",
    "features['MarkDown2'] = features['MarkDown2'].apply(lambda x: 0 if x < 0 else x)\n",
    "features['MarkDown3'] = features['MarkDown3'].apply(lambda x: 0 if x < 0 else x)\n",
    "features['MarkDown4'] = features['MarkDown4'].apply(lambda x: 0 if x < 0 else x)\n",
    "features['MarkDown5'] = features['MarkDown5'].apply(lambda x: 0 if x < 0 else x)"
   ]
  },
  {
   "cell_type": "markdown",
   "metadata": {},
   "source": [
    "### Features Data | NaN values for multiple columns:"
   ]
  },
  {
   "cell_type": "markdown",
   "metadata": {},
   "source": [
    "#### Columns: CPI and Unemployment\n",
    "As noted above, columns are missing values for 3 months May, Jun & Jul 2013. Values from Apr 2019 would be propogated to records with missing values. "
   ]
  },
  {
   "cell_type": "code",
   "execution_count": 56,
   "metadata": {},
   "outputs": [
    {
     "name": "stdout",
     "output_type": "stream",
     "text": [
      "CPU times: user 2.43 s, sys: 1.51 ms, total: 2.43 s\n",
      "Wall time: 2.43 s\n"
     ]
    }
   ],
   "source": [
    "%%time\n",
    "# For each Store, propogate values of CPI & Unemployment to the rows with NaN values\n",
    "for i in range(len(features)):\n",
    "\n",
    "    if features.iloc[i]['Date'] == '2013-04-26':\n",
    "        CPI_new = features.iloc[i]['CPI']\n",
    "        Unemployment_new = features.iloc[i]['Unemployment']\n",
    "    \n",
    "    if np.isnan(features.iloc[i]['CPI']):\n",
    "        features.iat[i, 9] = CPI_new\n",
    "        features.iat[i, 10] = Unemployment_new"
   ]
  },
  {
   "cell_type": "markdown",
   "metadata": {},
   "source": [
    "#### Columns: MarkDown1, MarkDown2, MarkDown3, MarkDown4 & MarkDown5\n",
    "As noted above, columns MARKDOWN* are missing values for the whole of 2010 and 2011 (upto Nov). For each store, 2012 values would be copied over to records with missing values. Also, to facilitate the copy, new columns WEEK and YEAR would be derived from DATE."
   ]
  },
  {
   "cell_type": "code",
   "execution_count": 57,
   "metadata": {},
   "outputs": [
    {
     "name": "stdout",
     "output_type": "stream",
     "text": [
      "CPU times: user 3.76 s, sys: 1.21 ms, total: 3.76 s\n",
      "Wall time: 3.77 s\n"
     ]
    }
   ],
   "source": [
    "%%time\n",
    "# For each date, retrive the corresponding week number\n",
    "features['Week'] = 0\n",
    "\n",
    "for i in range(len(features)):\n",
    "    features.iat[i, 12] = datetime.date(int(features.iloc[i]['Date'][0:4]), \n",
    "                                        int(features.iloc[i]['Date'][5:7]), \n",
    "                                        int(features.iloc[i]['Date'][8:10])).isocalendar()[1]"
   ]
  },
  {
   "cell_type": "code",
   "execution_count": 58,
   "metadata": {},
   "outputs": [],
   "source": [
    "features['Year'] = features['Date'].str.slice(start=0, stop=4)"
   ]
  },
  {
   "cell_type": "code",
   "execution_count": 59,
   "metadata": {},
   "outputs": [
    {
     "data": {
      "text/html": [
       "<div>\n",
       "<style scoped>\n",
       "    .dataframe tbody tr th:only-of-type {\n",
       "        vertical-align: middle;\n",
       "    }\n",
       "\n",
       "    .dataframe tbody tr th {\n",
       "        vertical-align: top;\n",
       "    }\n",
       "\n",
       "    .dataframe thead th {\n",
       "        text-align: right;\n",
       "    }\n",
       "</style>\n",
       "<table border=\"1\" class=\"dataframe\">\n",
       "  <thead>\n",
       "    <tr style=\"text-align: right;\">\n",
       "      <th></th>\n",
       "      <th>Total</th>\n",
       "      <th>Percent</th>\n",
       "    </tr>\n",
       "  </thead>\n",
       "  <tbody>\n",
       "    <tr>\n",
       "      <th>MarkDown2</th>\n",
       "      <td>1062</td>\n",
       "      <td>0.287805</td>\n",
       "    </tr>\n",
       "    <tr>\n",
       "      <th>MarkDown4</th>\n",
       "      <td>528</td>\n",
       "      <td>0.143089</td>\n",
       "    </tr>\n",
       "    <tr>\n",
       "      <th>MarkDown3</th>\n",
       "      <td>419</td>\n",
       "      <td>0.113550</td>\n",
       "    </tr>\n",
       "    <tr>\n",
       "      <th>MarkDown1</th>\n",
       "      <td>12</td>\n",
       "      <td>0.003252</td>\n",
       "    </tr>\n",
       "  </tbody>\n",
       "</table>\n",
       "</div>"
      ],
      "text/plain": [
       "           Total   Percent\n",
       "MarkDown2   1062  0.287805\n",
       "MarkDown4    528  0.143089\n",
       "MarkDown3    419  0.113550\n",
       "MarkDown1     12  0.003252"
      ]
     },
     "execution_count": 59,
     "metadata": {},
     "output_type": "execute_result"
    }
   ],
   "source": [
    "#missing data for 2012 & 2013\n",
    "total = features[features['Year'].isin(['2012','2013'])].isnull().sum().sort_values(ascending=False)\n",
    "percent = (features[features['Year'].isin(['2012','2013'])].isnull().sum()/\n",
    "           features[features['Year'].isin(['2012','2013'])].isnull().count()).sort_values(ascending=False)\n",
    "missing_data = pd.concat([total, percent], axis=1, keys=['Total', 'Percent'])\n",
    "missing_data.head(4)"
   ]
  },
  {
   "cell_type": "code",
   "execution_count": 60,
   "metadata": {},
   "outputs": [
    {
     "name": "stdout",
     "output_type": "stream",
     "text": [
      "CPU times: user 1min 3s, sys: 174 ms, total: 1min 3s\n",
      "Wall time: 1min 3s\n"
     ]
    }
   ],
   "source": [
    "%%time\n",
    "# For 2010 & 2011 records, for each store, copy over MarkDown values from 2012\n",
    "\n",
    "# Iterate through stores\n",
    "for i in range(1, len(features['Store'].unique())):\n",
    "    \n",
    "    # For 2010, iterate through weeks 5 thru 52\n",
    "    for j in range(5, 52):\n",
    "        idx = features.loc[(features.Year == '2010') & (features.Store == i) & (features.Week == j),['Date']].index[0]\n",
    "        \n",
    "        features.iat[idx, 4] = features.loc[(features.Year == '2012') & (features.Store == i) & (features.Week == j),['MarkDown1']].values[0]\n",
    "        features.iat[idx, 5] = features.loc[(features.Year == '2012') & (features.Store == i) & (features.Week == j),['MarkDown2']].values[0]\n",
    "        features.iat[idx, 6] = features.loc[(features.Year == '2012') & (features.Store == i) & (features.Week == j),['MarkDown3']].values[0]\n",
    "        features.iat[idx, 7] = features.loc[(features.Year == '2012') & (features.Store == i) & (features.Week == j),['MarkDown4']].values[0]\n",
    "        features.iat[idx, 8] = features.loc[(features.Year == '2012') & (features.Store == i) & (features.Week == j),['MarkDown5']].values[0]\n",
    "        \n",
    "    # For 2011, iterate through weeks 1 thru 44\n",
    "    for j in range(1, 44):\n",
    "        idx = features.loc[(features.Year == '2011') & (features.Store == i) & (features.Week == j),['Date']].index[0]\n",
    "        \n",
    "        features.iat[idx, 4] = features.loc[(features.Year == '2012') & (features.Store == i) & (features.Week == j),['MarkDown1']].values[0]\n",
    "        features.iat[idx, 5] = features.loc[(features.Year == '2012') & (features.Store == i) & (features.Week == j),['MarkDown2']].values[0]\n",
    "        features.iat[idx, 6] = features.loc[(features.Year == '2012') & (features.Store == i) & (features.Week == j),['MarkDown3']].values[0]\n",
    "        features.iat[idx, 7] = features.loc[(features.Year == '2012') & (features.Store == i) & (features.Week == j),['MarkDown4']].values[0]\n",
    "        features.iat[idx, 8] = features.loc[(features.Year == '2012') & (features.Store == i) & (features.Week == j),['MarkDown5']].values[0]        "
   ]
  },
  {
   "cell_type": "code",
   "execution_count": 61,
   "metadata": {},
   "outputs": [],
   "source": [
    "features.drop(columns=['Year'], axis=1, inplace=True)"
   ]
  },
  {
   "cell_type": "code",
   "execution_count": 62,
   "metadata": {},
   "outputs": [],
   "source": [
    "# Now fill all the missing MarkDown values with 0\n",
    "features.fillna(0, inplace=True)"
   ]
  },
  {
   "cell_type": "markdown",
   "metadata": {},
   "source": [
    "### Train Data | Negative Values for Weekly Sales"
   ]
  },
  {
   "cell_type": "code",
   "execution_count": 63,
   "metadata": {},
   "outputs": [],
   "source": [
    "train['Weekly_Sales'] = train['Weekly_Sales'].apply(lambda x: 0 if x < 0 else x)"
   ]
  },
  {
   "cell_type": "markdown",
   "metadata": {},
   "source": [
    "## 2. Merge Datasets"
   ]
  },
  {
   "cell_type": "markdown",
   "metadata": {},
   "source": [
    "### Merge the following datasets:\n",
    "1. Stores + Features + Train\n",
    "2. Stores + Features + Test\n",
    "3. Remove duplicate columns from each dataset"
   ]
  },
  {
   "cell_type": "code",
   "execution_count": 64,
   "metadata": {},
   "outputs": [],
   "source": [
    "train = pd.merge(train, stores, how='left', on=['Store'])\n",
    "train = pd.merge(train, features, how='left', on=['Store','Date'])\n",
    "\n",
    "test = pd.merge(test, stores, how='left', on=['Store'])\n",
    "test = pd.merge(test, features, how='left', on=['Store','Date'])"
   ]
  },
  {
   "cell_type": "code",
   "execution_count": 66,
   "metadata": {},
   "outputs": [
    {
     "data": {
      "text/plain": [
       "0"
      ]
     },
     "execution_count": 66,
     "metadata": {},
     "output_type": "execute_result"
    }
   ],
   "source": [
    "train['Store'][train['IsHoliday_x'] != train['IsHoliday_y']].count()"
   ]
  },
  {
   "cell_type": "code",
   "execution_count": 67,
   "metadata": {},
   "outputs": [
    {
     "data": {
      "text/plain": [
       "0"
      ]
     },
     "execution_count": 67,
     "metadata": {},
     "output_type": "execute_result"
    }
   ],
   "source": [
    "test['Store'][test['IsHoliday_x'] != test['IsHoliday_y']].count()"
   ]
  },
  {
   "cell_type": "code",
   "execution_count": 68,
   "metadata": {},
   "outputs": [],
   "source": [
    "train.drop(columns=['IsHoliday_y'], axis=1, inplace=True)\n",
    "test.drop(columns=['IsHoliday_y'], axis=1, inplace=True)"
   ]
  },
  {
   "cell_type": "code",
   "execution_count": 69,
   "metadata": {},
   "outputs": [],
   "source": [
    "train.rename(columns={'IsHoliday_x': 'IsHoliday'}, inplace=True)\n",
    "test.rename(columns={'IsHoliday_x': 'IsHoliday'}, inplace=True)"
   ]
  },
  {
   "cell_type": "markdown",
   "metadata": {},
   "source": [
    "## 3. Feature Engineering"
   ]
  },
  {
   "cell_type": "markdown",
   "metadata": {},
   "source": [
    "### Column #1: IsHoliday\n",
    "Column has boolean values and would ned converted to numeric. "
   ]
  },
  {
   "cell_type": "code",
   "execution_count": 70,
   "metadata": {},
   "outputs": [],
   "source": [
    "train['IsHoliday'] = train['IsHoliday'].apply(lambda x: 1 if x==True else 0)\n",
    "test['IsHoliday'] = test['IsHoliday'].apply(lambda x: 1 if x==True else 0)"
   ]
  },
  {
   "cell_type": "markdown",
   "metadata": {},
   "source": [
    "### Column #2: Type\n",
    "Column is categorical and would be converted to numeric via one-hot encoding. "
   ]
  },
  {
   "cell_type": "code",
   "execution_count": 71,
   "metadata": {},
   "outputs": [],
   "source": [
    "train = pd.get_dummies(train, columns=['Type'])\n",
    "test = pd.get_dummies(test, columns=['Type'])"
   ]
  },
  {
   "cell_type": "markdown",
   "metadata": {},
   "source": [
    "### Column #3: Week\n",
    "New numeric column being created to replace YEAR. "
   ]
  },
  {
   "cell_type": "code",
   "execution_count": 72,
   "metadata": {},
   "outputs": [],
   "source": [
    "train['Week'] = test['Week'] = 0"
   ]
  },
  {
   "cell_type": "code",
   "execution_count": 73,
   "metadata": {},
   "outputs": [
    {
     "name": "stdout",
     "output_type": "stream",
     "text": [
      "CPU times: user 3min 42s, sys: 16.1 ms, total: 3min 42s\n",
      "Wall time: 3min 42s\n"
     ]
    }
   ],
   "source": [
    "%%time\n",
    "# For each date, retrive the corresponding week number\n",
    "for i in range(len(train)):\n",
    "    train.iat[i, 15] = datetime.date(int(train.iloc[i]['Date'][0:4]), \n",
    "                                     int(train.iloc[i]['Date'][5:7]), \n",
    "                                     int(train.iloc[i]['Date'][8:10])).isocalendar()[1]"
   ]
  },
  {
   "cell_type": "code",
   "execution_count": 74,
   "metadata": {},
   "outputs": [
    {
     "name": "stdout",
     "output_type": "stream",
     "text": [
      "CPU times: user 58.2 s, sys: 4.02 ms, total: 58.2 s\n",
      "Wall time: 58.2 s\n"
     ]
    }
   ],
   "source": [
    "%%time\n",
    "# For each date, retrive the corresponding week number\n",
    "for i in range(len(test)):\n",
    "    test.iat[i, 14] = datetime.date(int(test.iloc[i]['Date'][0:4]), \n",
    "                                    int(test.iloc[i]['Date'][5:7]), \n",
    "                                    int(test.iloc[i]['Date'][8:10])).isocalendar()[1]"
   ]
  },
  {
   "cell_type": "code",
   "execution_count": 75,
   "metadata": {},
   "outputs": [],
   "source": [
    "# Create checkpoint\n",
    "train.to_csv('train_prescaled.csv', index=False)\n",
    "test.to_csv('test_prescaled.csv', index=False)"
   ]
  },
  {
   "cell_type": "code",
   "execution_count": 20,
   "metadata": {},
   "outputs": [],
   "source": [
    "# Restore checkpoint\n",
    "train = pd.read_csv(\"train_prescaled.csv\")\n",
    "test = pd.read_csv(\"test_prescaled.csv\")"
   ]
  },
  {
   "cell_type": "code",
   "execution_count": 21,
   "metadata": {},
   "outputs": [],
   "source": [
    "# Create Submission dataframe\n",
    "submission = test[['Store', 'Dept', 'Date']].copy()\n",
    "submission['Id'] = submission['Store'].map(str) + '_' + submission['Dept'].map(str) + '_' + submission['Date'].map(str)\n",
    "submission.drop(['Store', 'Dept', 'Date'], axis=1, inplace=True)"
   ]
  },
  {
   "cell_type": "markdown",
   "metadata": {},
   "source": [
    "### Log Transform Skewed Features"
   ]
  },
  {
   "cell_type": "code",
   "execution_count": 22,
   "metadata": {},
   "outputs": [],
   "source": [
    "skewed = ['MarkDown1','MarkDown2','MarkDown3','MarkDown4','MarkDown5']\n",
    "train[skewed] = train[skewed].apply(lambda x: np.log(x + 1))\n",
    "test[skewed] = test[skewed].apply(lambda x: np.log(x + 1))"
   ]
  },
  {
   "cell_type": "markdown",
   "metadata": {},
   "source": [
    "### Scale Datasets"
   ]
  },
  {
   "cell_type": "code",
   "execution_count": 23,
   "metadata": {},
   "outputs": [
    {
     "data": {
      "text/html": [
       "<div>\n",
       "<style scoped>\n",
       "    .dataframe tbody tr th:only-of-type {\n",
       "        vertical-align: middle;\n",
       "    }\n",
       "\n",
       "    .dataframe tbody tr th {\n",
       "        vertical-align: top;\n",
       "    }\n",
       "\n",
       "    .dataframe thead th {\n",
       "        text-align: right;\n",
       "    }\n",
       "</style>\n",
       "<table border=\"1\" class=\"dataframe\">\n",
       "  <thead>\n",
       "    <tr style=\"text-align: right;\">\n",
       "      <th></th>\n",
       "      <th>Store</th>\n",
       "      <th>Dept</th>\n",
       "      <th>Date</th>\n",
       "      <th>Weekly_Sales</th>\n",
       "      <th>IsHoliday</th>\n",
       "      <th>Size</th>\n",
       "      <th>Temperature</th>\n",
       "      <th>Fuel_Price</th>\n",
       "      <th>MarkDown1</th>\n",
       "      <th>MarkDown2</th>\n",
       "      <th>MarkDown3</th>\n",
       "      <th>MarkDown4</th>\n",
       "      <th>MarkDown5</th>\n",
       "      <th>CPI</th>\n",
       "      <th>Unemployment</th>\n",
       "      <th>Week</th>\n",
       "      <th>Type_A</th>\n",
       "      <th>Type_B</th>\n",
       "      <th>Type_C</th>\n",
       "    </tr>\n",
       "  </thead>\n",
       "  <tbody>\n",
       "    <tr>\n",
       "      <th>0</th>\n",
       "      <td>0.0</td>\n",
       "      <td>0.0</td>\n",
       "      <td>2010-02-05</td>\n",
       "      <td>24924.500000</td>\n",
       "      <td>0.0</td>\n",
       "      <td>0.630267</td>\n",
       "      <td>0.434149</td>\n",
       "      <td>0.050100</td>\n",
       "      <td>0.917362</td>\n",
       "      <td>0.708063</td>\n",
       "      <td>0.426749</td>\n",
       "      <td>0.934038</td>\n",
       "      <td>0.637068</td>\n",
       "      <td>0.840500</td>\n",
       "      <td>0.405118</td>\n",
       "      <td>0.078431</td>\n",
       "      <td>1.0</td>\n",
       "      <td>0.0</td>\n",
       "      <td>0.0</td>\n",
       "    </tr>\n",
       "    <tr>\n",
       "      <th>1</th>\n",
       "      <td>0.0</td>\n",
       "      <td>0.0</td>\n",
       "      <td>2010-02-12</td>\n",
       "      <td>46039.488281</td>\n",
       "      <td>1.0</td>\n",
       "      <td>0.630267</td>\n",
       "      <td>0.396967</td>\n",
       "      <td>0.038076</td>\n",
       "      <td>0.837532</td>\n",
       "      <td>0.765186</td>\n",
       "      <td>0.388691</td>\n",
       "      <td>0.813400</td>\n",
       "      <td>0.651916</td>\n",
       "      <td>0.841941</td>\n",
       "      <td>0.405118</td>\n",
       "      <td>0.098039</td>\n",
       "      <td>1.0</td>\n",
       "      <td>0.0</td>\n",
       "      <td>0.0</td>\n",
       "    </tr>\n",
       "    <tr>\n",
       "      <th>2</th>\n",
       "      <td>0.0</td>\n",
       "      <td>0.0</td>\n",
       "      <td>2010-02-19</td>\n",
       "      <td>41595.550781</td>\n",
       "      <td>0.0</td>\n",
       "      <td>0.630267</td>\n",
       "      <td>0.410861</td>\n",
       "      <td>0.021042</td>\n",
       "      <td>0.807352</td>\n",
       "      <td>0.805683</td>\n",
       "      <td>0.199711</td>\n",
       "      <td>0.812734</td>\n",
       "      <td>0.599926</td>\n",
       "      <td>0.842405</td>\n",
       "      <td>0.405118</td>\n",
       "      <td>0.117647</td>\n",
       "      <td>1.0</td>\n",
       "      <td>0.0</td>\n",
       "      <td>0.0</td>\n",
       "    </tr>\n",
       "    <tr>\n",
       "      <th>3</th>\n",
       "      <td>0.0</td>\n",
       "      <td>0.0</td>\n",
       "      <td>2010-02-26</td>\n",
       "      <td>19403.539062</td>\n",
       "      <td>0.0</td>\n",
       "      <td>0.630267</td>\n",
       "      <td>0.476419</td>\n",
       "      <td>0.044589</td>\n",
       "      <td>0.802568</td>\n",
       "      <td>0.772703</td>\n",
       "      <td>0.120444</td>\n",
       "      <td>0.639178</td>\n",
       "      <td>0.664288</td>\n",
       "      <td>0.842707</td>\n",
       "      <td>0.405118</td>\n",
       "      <td>0.137255</td>\n",
       "      <td>1.0</td>\n",
       "      <td>0.0</td>\n",
       "      <td>0.0</td>\n",
       "    </tr>\n",
       "    <tr>\n",
       "      <th>4</th>\n",
       "      <td>0.0</td>\n",
       "      <td>0.0</td>\n",
       "      <td>2010-03-05</td>\n",
       "      <td>21827.900391</td>\n",
       "      <td>0.0</td>\n",
       "      <td>0.630267</td>\n",
       "      <td>0.475147</td>\n",
       "      <td>0.076653</td>\n",
       "      <td>0.846604</td>\n",
       "      <td>0.636735</td>\n",
       "      <td>0.207143</td>\n",
       "      <td>0.912106</td>\n",
       "      <td>0.663597</td>\n",
       "      <td>0.843008</td>\n",
       "      <td>0.405118</td>\n",
       "      <td>0.156863</td>\n",
       "      <td>1.0</td>\n",
       "      <td>0.0</td>\n",
       "      <td>0.0</td>\n",
       "    </tr>\n",
       "  </tbody>\n",
       "</table>\n",
       "</div>"
      ],
      "text/plain": [
       "   Store  Dept        Date  Weekly_Sales  IsHoliday      Size  Temperature  \\\n",
       "0    0.0   0.0  2010-02-05  24924.500000        0.0  0.630267     0.434149   \n",
       "1    0.0   0.0  2010-02-12  46039.488281        1.0  0.630267     0.396967   \n",
       "2    0.0   0.0  2010-02-19  41595.550781        0.0  0.630267     0.410861   \n",
       "3    0.0   0.0  2010-02-26  19403.539062        0.0  0.630267     0.476419   \n",
       "4    0.0   0.0  2010-03-05  21827.900391        0.0  0.630267     0.475147   \n",
       "\n",
       "   Fuel_Price  MarkDown1  MarkDown2  MarkDown3  MarkDown4  MarkDown5  \\\n",
       "0    0.050100   0.917362   0.708063   0.426749   0.934038   0.637068   \n",
       "1    0.038076   0.837532   0.765186   0.388691   0.813400   0.651916   \n",
       "2    0.021042   0.807352   0.805683   0.199711   0.812734   0.599926   \n",
       "3    0.044589   0.802568   0.772703   0.120444   0.639178   0.664288   \n",
       "4    0.076653   0.846604   0.636735   0.207143   0.912106   0.663597   \n",
       "\n",
       "        CPI  Unemployment      Week  Type_A  Type_B  Type_C  \n",
       "0  0.840500      0.405118  0.078431     1.0     0.0     0.0  \n",
       "1  0.841941      0.405118  0.098039     1.0     0.0     0.0  \n",
       "2  0.842405      0.405118  0.117647     1.0     0.0     0.0  \n",
       "3  0.842707      0.405118  0.137255     1.0     0.0     0.0  \n",
       "4  0.843008      0.405118  0.156863     1.0     0.0     0.0  "
      ]
     },
     "metadata": {},
     "output_type": "display_data"
    }
   ],
   "source": [
    "# Initialize a scaler, then apply it to the features\n",
    "scaler = MinMaxScaler() # default=(0, 1)\n",
    "\n",
    "numerical = ['Store', 'Dept', 'IsHoliday', 'Size', 'Temperature', 'Fuel_Price', \n",
    "             'CPI', 'Unemployment', 'Week', 'Type_A', 'Type_B', 'Type_C',\n",
    "             'MarkDown1','MarkDown2','MarkDown3','MarkDown4','MarkDown5']\n",
    "\n",
    "train_scaled = pd.DataFrame(data = train)\n",
    "train_scaled[numerical] = scaler.fit_transform(train[numerical])\n",
    "\n",
    "# Show an example of a record with scaling applied\n",
    "display(train_scaled.head(n = 5))"
   ]
  },
  {
   "cell_type": "code",
   "execution_count": 24,
   "metadata": {},
   "outputs": [
    {
     "data": {
      "text/html": [
       "<div>\n",
       "<style scoped>\n",
       "    .dataframe tbody tr th:only-of-type {\n",
       "        vertical-align: middle;\n",
       "    }\n",
       "\n",
       "    .dataframe tbody tr th {\n",
       "        vertical-align: top;\n",
       "    }\n",
       "\n",
       "    .dataframe thead th {\n",
       "        text-align: right;\n",
       "    }\n",
       "</style>\n",
       "<table border=\"1\" class=\"dataframe\">\n",
       "  <thead>\n",
       "    <tr style=\"text-align: right;\">\n",
       "      <th></th>\n",
       "      <th>Store</th>\n",
       "      <th>Dept</th>\n",
       "      <th>Date</th>\n",
       "      <th>IsHoliday</th>\n",
       "      <th>Size</th>\n",
       "      <th>Temperature</th>\n",
       "      <th>Fuel_Price</th>\n",
       "      <th>MarkDown1</th>\n",
       "      <th>MarkDown2</th>\n",
       "      <th>MarkDown3</th>\n",
       "      <th>MarkDown4</th>\n",
       "      <th>MarkDown5</th>\n",
       "      <th>CPI</th>\n",
       "      <th>Unemployment</th>\n",
       "      <th>Week</th>\n",
       "      <th>Type_A</th>\n",
       "      <th>Type_B</th>\n",
       "      <th>Type_C</th>\n",
       "    </tr>\n",
       "  </thead>\n",
       "  <tbody>\n",
       "    <tr>\n",
       "      <th>0</th>\n",
       "      <td>0.0</td>\n",
       "      <td>0.0</td>\n",
       "      <td>2012-11-02</td>\n",
       "      <td>0.0</td>\n",
       "      <td>0.630267</td>\n",
       "      <td>0.573142</td>\n",
       "      <td>0.410215</td>\n",
       "      <td>0.764004</td>\n",
       "      <td>0.765027</td>\n",
       "      <td>0.331330</td>\n",
       "      <td>0.739574</td>\n",
       "      <td>0.583883</td>\n",
       "      <td>0.943588</td>\n",
       "      <td>0.443438</td>\n",
       "      <td>0.843137</td>\n",
       "      <td>1.0</td>\n",
       "      <td>0.0</td>\n",
       "      <td>0.0</td>\n",
       "    </tr>\n",
       "    <tr>\n",
       "      <th>1</th>\n",
       "      <td>0.0</td>\n",
       "      <td>0.0</td>\n",
       "      <td>2012-11-09</td>\n",
       "      <td>0.0</td>\n",
       "      <td>0.630267</td>\n",
       "      <td>0.627334</td>\n",
       "      <td>0.352753</td>\n",
       "      <td>0.809346</td>\n",
       "      <td>0.727139</td>\n",
       "      <td>0.312245</td>\n",
       "      <td>0.761595</td>\n",
       "      <td>0.643629</td>\n",
       "      <td>0.943778</td>\n",
       "      <td>0.443438</td>\n",
       "      <td>0.862745</td>\n",
       "      <td>1.0</td>\n",
       "      <td>0.0</td>\n",
       "      <td>0.0</td>\n",
       "    </tr>\n",
       "    <tr>\n",
       "      <th>2</th>\n",
       "      <td>0.0</td>\n",
       "      <td>0.0</td>\n",
       "      <td>2012-11-16</td>\n",
       "      <td>0.0</td>\n",
       "      <td>0.630267</td>\n",
       "      <td>0.551172</td>\n",
       "      <td>0.303272</td>\n",
       "      <td>0.795164</td>\n",
       "      <td>0.508483</td>\n",
       "      <td>0.390422</td>\n",
       "      <td>0.634379</td>\n",
       "      <td>0.648929</td>\n",
       "      <td>0.944101</td>\n",
       "      <td>0.443438</td>\n",
       "      <td>0.882353</td>\n",
       "      <td>1.0</td>\n",
       "      <td>0.0</td>\n",
       "      <td>0.0</td>\n",
       "    </tr>\n",
       "    <tr>\n",
       "      <th>3</th>\n",
       "      <td>0.0</td>\n",
       "      <td>0.0</td>\n",
       "      <td>2012-11-23</td>\n",
       "      <td>1.0</td>\n",
       "      <td>0.630267</td>\n",
       "      <td>0.581472</td>\n",
       "      <td>0.270551</td>\n",
       "      <td>0.587747</td>\n",
       "      <td>0.147059</td>\n",
       "      <td>0.942015</td>\n",
       "      <td>0.482657</td>\n",
       "      <td>0.421811</td>\n",
       "      <td>0.944603</td>\n",
       "      <td>0.443438</td>\n",
       "      <td>0.901961</td>\n",
       "      <td>1.0</td>\n",
       "      <td>0.0</td>\n",
       "      <td>0.0</td>\n",
       "    </tr>\n",
       "    <tr>\n",
       "      <th>4</th>\n",
       "      <td>0.0</td>\n",
       "      <td>0.0</td>\n",
       "      <td>2012-11-30</td>\n",
       "      <td>0.0</td>\n",
       "      <td>0.630267</td>\n",
       "      <td>0.545862</td>\n",
       "      <td>0.267358</td>\n",
       "      <td>0.676381</td>\n",
       "      <td>0.000000</td>\n",
       "      <td>0.692664</td>\n",
       "      <td>0.452859</td>\n",
       "      <td>0.652772</td>\n",
       "      <td>0.945105</td>\n",
       "      <td>0.443438</td>\n",
       "      <td>0.921569</td>\n",
       "      <td>1.0</td>\n",
       "      <td>0.0</td>\n",
       "      <td>0.0</td>\n",
       "    </tr>\n",
       "  </tbody>\n",
       "</table>\n",
       "</div>"
      ],
      "text/plain": [
       "   Store  Dept        Date  IsHoliday      Size  Temperature  Fuel_Price  \\\n",
       "0    0.0   0.0  2012-11-02        0.0  0.630267     0.573142    0.410215   \n",
       "1    0.0   0.0  2012-11-09        0.0  0.630267     0.627334    0.352753   \n",
       "2    0.0   0.0  2012-11-16        0.0  0.630267     0.551172    0.303272   \n",
       "3    0.0   0.0  2012-11-23        1.0  0.630267     0.581472    0.270551   \n",
       "4    0.0   0.0  2012-11-30        0.0  0.630267     0.545862    0.267358   \n",
       "\n",
       "   MarkDown1  MarkDown2  MarkDown3  MarkDown4  MarkDown5       CPI  \\\n",
       "0   0.764004   0.765027   0.331330   0.739574   0.583883  0.943588   \n",
       "1   0.809346   0.727139   0.312245   0.761595   0.643629  0.943778   \n",
       "2   0.795164   0.508483   0.390422   0.634379   0.648929  0.944101   \n",
       "3   0.587747   0.147059   0.942015   0.482657   0.421811  0.944603   \n",
       "4   0.676381   0.000000   0.692664   0.452859   0.652772  0.945105   \n",
       "\n",
       "   Unemployment      Week  Type_A  Type_B  Type_C  \n",
       "0      0.443438  0.843137     1.0     0.0     0.0  \n",
       "1      0.443438  0.862745     1.0     0.0     0.0  \n",
       "2      0.443438  0.882353     1.0     0.0     0.0  \n",
       "3      0.443438  0.901961     1.0     0.0     0.0  \n",
       "4      0.443438  0.921569     1.0     0.0     0.0  "
      ]
     },
     "metadata": {},
     "output_type": "display_data"
    }
   ],
   "source": [
    "test_scaled = pd.DataFrame(data = test)\n",
    "test_scaled[numerical] = scaler.fit_transform(test[numerical])\n",
    "\n",
    "# Show an example of a record with scaling applied\n",
    "display(test_scaled.head(n = 5))"
   ]
  },
  {
   "cell_type": "code",
   "execution_count": 25,
   "metadata": {},
   "outputs": [],
   "source": [
    "# Free up memory\n",
    "train = test = features = stores = None"
   ]
  },
  {
   "cell_type": "code",
   "execution_count": 26,
   "metadata": {},
   "outputs": [],
   "source": [
    "# Create checkpoint\n",
    "train_scaled.to_csv('train_scaled.csv', index=False)\n",
    "test_scaled.to_csv('test_scaled.csv', index=False)"
   ]
  },
  {
   "cell_type": "code",
   "execution_count": 27,
   "metadata": {},
   "outputs": [],
   "source": [
    "# Restore checkpoint\n",
    "train_scaled = pd.read_csv(\"train_scaled.csv\")\n",
    "test_scaled = pd.read_csv(\"test_scaled.csv\")"
   ]
  },
  {
   "cell_type": "code",
   "execution_count": 14,
   "metadata": {},
   "outputs": [
    {
     "name": "stdout",
     "output_type": "stream",
     "text": [
      "Memory usage of dataframe is 61.11 MB\n",
      "Memory usage after optimization is: 18.49 MB\n",
      "Decreased by 69.7%\n",
      "Memory usage of dataframe is 15.80 MB\n",
      "Memory usage after optimization is: 4.61 MB\n",
      "Decreased by 70.8%\n"
     ]
    }
   ],
   "source": [
    "# Reduce memory usage\n",
    "train_scaled=reduce_mem_usage(train_scaled)\n",
    "test_scaled=reduce_mem_usage(test_scaled)"
   ]
  },
  {
   "cell_type": "code",
   "execution_count": 28,
   "metadata": {},
   "outputs": [],
   "source": [
    "# Drop non-numeric columns\n",
    "train_scaled.drop(columns=['Date'], axis=1, inplace=True)\n",
    "test_scaled.drop(columns=['Date'], axis=1, inplace=True)"
   ]
  },
  {
   "cell_type": "markdown",
   "metadata": {},
   "source": [
    "### Analyze Feature Correlation"
   ]
  },
  {
   "cell_type": "code",
   "execution_count": 29,
   "metadata": {},
   "outputs": [
    {
     "data": {
      "text/plain": [
       "<matplotlib.axes._subplots.AxesSubplot at 0x7fcaebe11518>"
      ]
     },
     "execution_count": 29,
     "metadata": {},
     "output_type": "execute_result"
    },
    {
     "data": {
      "image/png": "[encoded data removed]",
      "text/plain": [
       "<Figure size 1008x864 with 2 Axes>"
      ]
     },
     "metadata": {},
     "output_type": "display_data"
    }
   ],
   "source": [
    "colormap = plt.cm.RdBu\n",
    "corr = train_scaled.astype(float).corr()\n",
    "\n",
    "plt.figure(figsize=(14,12))\n",
    "plt.title('Pearson Correlation of Features', y=1.05, size=15)\n",
    "sns.set(font_scale=0.9)\n",
    "sns.heatmap(round(corr,2),linewidths=0.1,vmax=1.0, square=True, \n",
    "            cmap=colormap, linecolor='white', annot=True)"
   ]
  },
  {
   "cell_type": "code",
   "execution_count": 30,
   "metadata": {},
   "outputs": [],
   "source": [
    "corr_cutoff = 0.8\n",
    "columns = np.full((corr.shape[0],), True, dtype=bool)\n",
    "\n",
    "for i in range(corr.shape[0]):\n",
    "    for j in range(i+1, corr.shape[0]):\n",
    "        if corr.iloc[i,j] >= corr_cutoff:\n",
    "            if columns[j]:\n",
    "                columns[j] = False\n",
    "                \n",
    "selected_columns = train_scaled.columns[columns]\n",
    "highcorr_columns = train_scaled.columns.difference(selected_columns)"
   ]
  },
  {
   "cell_type": "code",
   "execution_count": 31,
   "metadata": {},
   "outputs": [
    {
     "data": {
      "text/plain": [
       "Index(['MarkDown4', 'Type_A'], dtype='object')"
      ]
     },
     "execution_count": 31,
     "metadata": {},
     "output_type": "execute_result"
    }
   ],
   "source": [
    "highcorr_columns"
   ]
  },
  {
   "cell_type": "code",
   "execution_count": 32,
   "metadata": {},
   "outputs": [],
   "source": [
    "train_scaled.drop(columns=highcorr_columns, axis=1, inplace=True)\n",
    "test_scaled.drop(columns=highcorr_columns, axis=1, inplace=True)"
   ]
  },
  {
   "cell_type": "markdown",
   "metadata": {},
   "source": [
    "###### Takeaway: \n",
    "1. MarkDown4 and Type_A are highly correlated to other existing features and have been dropped. "
   ]
  },
  {
   "cell_type": "markdown",
   "metadata": {},
   "source": [
    "train_scaled.drop(columns=['Temperature', 'Fuel_Price'], axis=1, inplace=True)\n",
    "test_scaled.drop(columns=['Temperature', 'Fuel_Price'], axis=1, inplace=True)"
   ]
  },
  {
   "cell_type": "code",
   "execution_count": 33,
   "metadata": {},
   "outputs": [],
   "source": [
    "weekly_sales = train_scaled['Weekly_Sales']\n",
    "train_scaled = train_scaled.drop('Weekly_Sales', axis = 1)"
   ]
  },
  {
   "cell_type": "markdown",
   "metadata": {},
   "source": [
    "### Split Training dataset into Train & Validation"
   ]
  },
  {
   "cell_type": "code",
   "execution_count": 34,
   "metadata": {},
   "outputs": [
    {
     "name": "stdout",
     "output_type": "stream",
     "text": [
      "Training set has 337256 samples.\n",
      "Validation set has 84314 samples.\n"
     ]
    }
   ],
   "source": [
    "train_X, val_X, train_y, val_y = train_test_split(train_scaled, weekly_sales, test_size = 0.2, random_state = 0)\n",
    "\n",
    "# Show the results of the split\n",
    "print(\"Training set has {} samples.\".format(train_X.shape[0]))\n",
    "print(\"Validation set has {} samples.\".format(val_X.shape[0]))"
   ]
  },
  {
   "cell_type": "code",
   "execution_count": 35,
   "metadata": {},
   "outputs": [
    {
     "data": {
      "text/plain": [
       "((337256, 15), (84314, 15), (115064, 15))"
      ]
     },
     "execution_count": 35,
     "metadata": {},
     "output_type": "execute_result"
    }
   ],
   "source": [
    "# Validate shape\n",
    "train_X.shape,val_X.shape, test_scaled.shape"
   ]
  },
  {
   "cell_type": "code",
   "execution_count": 36,
   "metadata": {},
   "outputs": [],
   "source": [
    "# Free up memory\n",
    "train_scaled = weekly_sales = None"
   ]
  },
  {
   "cell_type": "markdown",
   "metadata": {},
   "source": [
    "## 4. Modelling"
   ]
  },
  {
   "cell_type": "markdown",
   "metadata": {},
   "source": [
    "### Select and evaluate candidate models"
   ]
  },
  {
   "cell_type": "code",
   "execution_count": 89,
   "metadata": {},
   "outputs": [
    {
     "name": "stdout",
     "output_type": "stream",
     "text": [
      "LinearRegression trained on 337256 samples.\n",
      "ElasticNet trained on 337256 samples.\n",
      "RandomForestRegressor trained on 337256 samples.\n",
      "GradientBoostingRegressor trained on 337256 samples.\n",
      "[08:39:39] WARNING: /workspace/src/objective/regression_obj.cu:152: reg:linear is now deprecated in favor of reg:squarederror.\n",
      "XGBRegressor trained on 337256 samples.\n",
      "LGBMRegressor trained on 337256 samples.\n",
      "CPU times: user 1min 35s, sys: 419 ms, total: 1min 35s\n",
      "Wall time: 1min 36s\n"
     ]
    }
   ],
   "source": [
    "%%time\n",
    "# Initialize base models\n",
    "model_A = LinearRegression()\n",
    "model_B = ElasticNet(random_state=1)\n",
    "model_C = RandomForestRegressor(random_state=1)\n",
    "model_D = GradientBoostingRegressor(random_state=1)\n",
    "model_E = xgb.XGBRegressor()\n",
    "model_F = LGBMRegressor(random_state=1)\n",
    "\n",
    "samples = len(train_y) # 100% of training set\n",
    "\n",
    "# Collect results on the learners\n",
    "results = {}\n",
    "for model in [model_A, model_B, model_C, model_D, model_E, model_F]:\n",
    "    model_name = model.__class__.__name__\n",
    "    results[model_name] = {}\n",
    "    for i, samples in enumerate([samples]):\n",
    "        results[model_name][i] = eval_train_predict(model, samples, train_X, train_y, val_X, val_y)"
   ]
  },
  {
   "cell_type": "code",
   "execution_count": 90,
   "metadata": {},
   "outputs": [
    {
     "data": {
      "image/png": "[encoded data removed]",
      "text/plain": [
       "<Figure size 1296x576 with 3 Axes>"
      ]
     },
     "metadata": {},
     "output_type": "display_data"
    }
   ],
   "source": [
    "# Evaluate Metrics\n",
    "eval_visualize(results)"
   ]
  },
  {
   "cell_type": "code",
   "execution_count": 91,
   "metadata": {},
   "outputs": [
    {
     "data": {
      "text/plain": [
       "{'LinearRegression': {0: {'time_train': 0.5686757564544678,\n",
       "   'time_pred': 0.003078937530517578,\n",
       "   'WMAE': 14774.641990009495}},\n",
       " 'ElasticNet': {0: {'time_train': 0.13800740242004395,\n",
       "   'time_pred': 0.002748727798461914,\n",
       "   'WMAE': 15006.957927620455}},\n",
       " 'RandomForestRegressor': {0: {'time_train': 32.337730169296265,\n",
       "   'time_pred': 0.5040295124053955,\n",
       "   'WMAE': 1656.8726492618043}},\n",
       " 'GradientBoostingRegressor': {0: {'time_train': 35.72816324234009,\n",
       "   'time_pred': 0.11783385276794434,\n",
       "   'WMAE': 7059.007466413622}},\n",
       " 'XGBRegressor': {0: {'time_train': 22.58227777481079,\n",
       "   'time_pred': 0.2611682415008545,\n",
       "   'WMAE': 7084.572590213446}},\n",
       " 'LGBMRegressor': {0: {'time_train': 3.389556407928467,\n",
       "   'time_pred': 0.592731237411499,\n",
       "   'WMAE': 4277.553441722743}}}"
      ]
     },
     "execution_count": 91,
     "metadata": {},
     "output_type": "execute_result"
    }
   ],
   "source": [
    "results"
   ]
  },
  {
   "cell_type": "markdown",
   "metadata": {},
   "source": [
    "###### Takeaway: With respect to WMAE, Random Forest and Light GBM have turned out to be the top performing base models and would be further evaluated."
   ]
  },
  {
   "cell_type": "markdown",
   "metadata": {},
   "source": [
    "### Evaluate Random Forest (Ensemble)"
   ]
  },
  {
   "cell_type": "markdown",
   "metadata": {},
   "source": [
    "#### Default Model"
   ]
  },
  {
   "cell_type": "code",
   "execution_count": 23,
   "metadata": {},
   "outputs": [],
   "source": [
    "model_rf_base = RandomForestRegressor(random_state=42, verbose=1)"
   ]
  },
  {
   "cell_type": "code",
   "execution_count": 26,
   "metadata": {},
   "outputs": [
    {
     "name": "stderr",
     "output_type": "stream",
     "text": [
      "[Parallel(n_jobs=1)]: Using backend SequentialBackend with 1 concurrent workers.\n",
      "[Parallel(n_jobs=1)]: Done  10 out of  10 | elapsed:   33.7s finished\n",
      "[Parallel(n_jobs=1)]: Using backend SequentialBackend with 1 concurrent workers.\n",
      "[Parallel(n_jobs=1)]: Done  10 out of  10 | elapsed:    0.5s finished\n"
     ]
    },
    {
     "name": "stdout",
     "output_type": "stream",
     "text": [
      "Learner Name : RandomForestRegressor\n",
      "Training     : 33.77 secs / 337256 records\n",
      "Predicting   : 0.5 secs / 84314 records\n",
      "Weighted MAE : 1672.55\n",
      "\n",
      "<Feature Importance>\n",
      "\n"
     ]
    },
    {
     "data": {
      "image/png": "[encoded data removed]",
      "text/plain": [
       "<Figure size 1296x360 with 1 Axes>"
      ]
     },
     "metadata": {},
     "output_type": "display_data"
    },
    {
     "name": "stdout",
     "output_type": "stream",
     "text": [
      "\n",
      "<Feature Weightage>\n",
      "\n",
      "\tDept           : 0.625744502800423\n",
      "\tSize           : 0.18423764686973634\n",
      "\tStore          : 0.0684034171309138\n",
      "\tMarkDown3      : 0.027352278450841365\n",
      "\tCPI            : 0.025631375183277055\n",
      "\tWeek           : 0.025335328588700655\n",
      "\tUnemployment   : 0.010374219597005588\n",
      "\tTemperature    : 0.009651665245372452\n",
      "\tFuel_Price     : 0.004128744488994445\n",
      "\tMarkDown1      : 0.004014644217991354\n",
      "\tMarkDown5      : 0.0038024455438074346\n",
      "\tMarkDown2      : 0.0035294691724937965\n",
      "\tType_C         : 0.00333145275967772\n",
      "\tType_B         : 0.003149338808889939\n",
      "\tIsHoliday      : 0.0013134711418749734\n",
      "\n",
      "<Learner Params>\n",
      " {'bootstrap': True, 'criterion': 'mse', 'max_depth': None, 'max_features': 'auto', 'max_leaf_nodes': None, 'min_impurity_decrease': 0.0, 'min_impurity_split': None, 'min_samples_leaf': 1, 'min_samples_split': 2, 'min_weight_fraction_leaf': 0.0, 'n_estimators': 10, 'n_jobs': None, 'oob_score': False, 'random_state': 42, 'verbose': 1, 'warm_start': False}\n"
     ]
    }
   ],
   "source": [
    "model_rf_base, pred_y_rf_val = train_predict(model, train_X, train_y, val_X, val_y, verbose=1)"
   ]
  },
  {
   "cell_type": "code",
   "execution_count": 28,
   "metadata": {},
   "outputs": [
    {
     "name": "stderr",
     "output_type": "stream",
     "text": [
      "[Parallel(n_jobs=1)]: Using backend SequentialBackend with 1 concurrent workers.\n",
      "[Parallel(n_jobs=1)]: Done 100 out of 100 | elapsed:    2.2s finished\n"
     ]
    }
   ],
   "source": [
    "#pred_y_rf_val = model.predict(val_X)\n",
    "pred_y_rf_test = model_rf_base.predict(test_scaled)"
   ]
  },
  {
   "cell_type": "code",
   "execution_count": 24,
   "metadata": {},
   "outputs": [],
   "source": [
    "param_grid = { \n",
    "    'n_estimators': [10, 50, 100, 150],\n",
    "    'max_features': [None, 'auto'],\n",
    "    'bootstrap': [True, False],\n",
    "    'max_depth':[None],\n",
    "    'random_state': [42], \n",
    "    'verbose': [1]\n",
    "}"
   ]
  },
  {
   "cell_type": "code",
   "execution_count": 25,
   "metadata": {},
   "outputs": [
    {
     "name": "stdout",
     "output_type": "stream",
     "text": [
      "Fitting 2 folds for each of 4 candidates, totalling 8 fits\n"
     ]
    },
    {
     "name": "stderr",
     "output_type": "stream",
     "text": [
      "[Parallel(n_jobs=1)]: Using backend SequentialBackend with 1 concurrent workers.\n",
      "[Parallel(n_jobs=1)]: Using backend SequentialBackend with 1 concurrent workers.\n",
      "[Parallel(n_jobs=1)]: Done 150 out of 150 | elapsed:  3.7min finished\n",
      "[Parallel(n_jobs=1)]: Using backend SequentialBackend with 1 concurrent workers.\n",
      "[Parallel(n_jobs=1)]: Done 150 out of 150 | elapsed:    9.4s finished\n",
      "[Parallel(n_jobs=1)]: Using backend SequentialBackend with 1 concurrent workers.\n",
      "[Parallel(n_jobs=1)]: Done 150 out of 150 | elapsed:    9.6s finished\n",
      "[Parallel(n_jobs=1)]: Using backend SequentialBackend with 1 concurrent workers.\n",
      "[Parallel(n_jobs=1)]: Done 150 out of 150 | elapsed:  3.7min finished\n",
      "[Parallel(n_jobs=1)]: Using backend SequentialBackend with 1 concurrent workers.\n",
      "[Parallel(n_jobs=1)]: Done 150 out of 150 | elapsed:    9.6s finished\n",
      "[Parallel(n_jobs=1)]: Using backend SequentialBackend with 1 concurrent workers.\n",
      "[Parallel(n_jobs=1)]: Done 150 out of 150 | elapsed:    9.8s finished\n",
      "[Parallel(n_jobs=1)]: Using backend SequentialBackend with 1 concurrent workers.\n",
      "[Parallel(n_jobs=1)]: Done 150 out of 150 | elapsed:  3.7min finished\n",
      "[Parallel(n_jobs=1)]: Using backend SequentialBackend with 1 concurrent workers.\n",
      "[Parallel(n_jobs=1)]: Done 150 out of 150 | elapsed:    9.3s finished\n",
      "[Parallel(n_jobs=1)]: Using backend SequentialBackend with 1 concurrent workers.\n",
      "[Parallel(n_jobs=1)]: Done 150 out of 150 | elapsed:    9.4s finished\n",
      "[Parallel(n_jobs=1)]: Using backend SequentialBackend with 1 concurrent workers.\n",
      "[Parallel(n_jobs=1)]: Done 150 out of 150 | elapsed:  3.7min finished\n",
      "[Parallel(n_jobs=1)]: Using backend SequentialBackend with 1 concurrent workers.\n",
      "[Parallel(n_jobs=1)]: Done 150 out of 150 | elapsed:    9.3s finished\n",
      "[Parallel(n_jobs=1)]: Using backend SequentialBackend with 1 concurrent workers.\n",
      "[Parallel(n_jobs=1)]: Done 150 out of 150 | elapsed:    9.4s finished\n",
      "[Parallel(n_jobs=1)]: Using backend SequentialBackend with 1 concurrent workers.\n",
      "[Parallel(n_jobs=1)]: Done 150 out of 150 | elapsed:  5.8min finished\n",
      "[Parallel(n_jobs=1)]: Using backend SequentialBackend with 1 concurrent workers.\n",
      "[Parallel(n_jobs=1)]: Done 150 out of 150 | elapsed:   10.7s finished\n",
      "[Parallel(n_jobs=1)]: Using backend SequentialBackend with 1 concurrent workers.\n",
      "[Parallel(n_jobs=1)]: Done 150 out of 150 | elapsed:   11.9s finished\n",
      "[Parallel(n_jobs=1)]: Using backend SequentialBackend with 1 concurrent workers.\n",
      "[Parallel(n_jobs=1)]: Done 150 out of 150 | elapsed:  5.8min finished\n",
      "[Parallel(n_jobs=1)]: Using backend SequentialBackend with 1 concurrent workers.\n",
      "[Parallel(n_jobs=1)]: Done 150 out of 150 | elapsed:   11.9s finished\n",
      "[Parallel(n_jobs=1)]: Using backend SequentialBackend with 1 concurrent workers.\n",
      "[Parallel(n_jobs=1)]: Done 150 out of 150 | elapsed:   12.3s finished\n",
      "[Parallel(n_jobs=1)]: Using backend SequentialBackend with 1 concurrent workers.\n",
      "[Parallel(n_jobs=1)]: Done 150 out of 150 | elapsed:  5.8min finished\n",
      "[Parallel(n_jobs=1)]: Using backend SequentialBackend with 1 concurrent workers.\n",
      "[Parallel(n_jobs=1)]: Done 150 out of 150 | elapsed:   12.1s finished\n",
      "[Parallel(n_jobs=1)]: Using backend SequentialBackend with 1 concurrent workers.\n",
      "[Parallel(n_jobs=1)]: Done 150 out of 150 | elapsed:   11.8s finished\n",
      "[Parallel(n_jobs=1)]: Using backend SequentialBackend with 1 concurrent workers.\n",
      "[Parallel(n_jobs=1)]: Done 150 out of 150 | elapsed:  5.8min finished\n",
      "[Parallel(n_jobs=1)]: Using backend SequentialBackend with 1 concurrent workers.\n",
      "[Parallel(n_jobs=1)]: Done 150 out of 150 | elapsed:   11.6s finished\n",
      "[Parallel(n_jobs=1)]: Using backend SequentialBackend with 1 concurrent workers.\n",
      "[Parallel(n_jobs=1)]: Done 150 out of 150 | elapsed:   11.9s finished\n",
      "[Parallel(n_jobs=1)]: Done   8 out of   8 | elapsed: 41.0min finished\n",
      "[Parallel(n_jobs=1)]: Using backend SequentialBackend with 1 concurrent workers.\n"
     ]
    },
    {
     "name": "stdout",
     "output_type": "stream",
     "text": [
      "CPU times: user 48min 42s, sys: 8.59 s, total: 48min 51s\n",
      "Wall time: 48min 52s\n"
     ]
    },
    {
     "name": "stderr",
     "output_type": "stream",
     "text": [
      "[Parallel(n_jobs=1)]: Done 150 out of 150 | elapsed:  7.9min finished\n"
     ]
    }
   ],
   "source": [
    "%%time\n",
    "CV = GridSearchCV(estimator=model_rf_base, param_grid=param_grid, cv=2, verbose=1)\n",
    "CV.fit(train_X, train_y)"
   ]
  },
  {
   "cell_type": "code",
   "execution_count": 27,
   "metadata": {},
   "outputs": [
    {
     "data": {
      "text/plain": [
       "{'bootstrap': True,\n",
       " 'max_depth': None,\n",
       " 'max_features': None,\n",
       " 'min_samples_leaf': 1,\n",
       " 'min_samples_split': 3,\n",
       " 'n_estimators': 150,\n",
       " 'random_state': 42,\n",
       " 'verbose': 1}"
      ]
     },
     "execution_count": 27,
     "metadata": {},
     "output_type": "execute_result"
    }
   ],
   "source": [
    "CV.best_params_ # latest"
   ]
  },
  {
   "cell_type": "code",
   "execution_count": 28,
   "metadata": {},
   "outputs": [
    {
     "ename": "NameError",
     "evalue": "name 'model' is not defined",
     "output_type": "error",
     "traceback": [
      "\u001b[0;31m---------------------------------------------------------------------------\u001b[0m",
      "\u001b[0;31mNameError\u001b[0m                                 Traceback (most recent call last)",
      "\u001b[0;32m<ipython-input-28-af8c7f307eff>\u001b[0m in \u001b[0;36m<module>\u001b[0;34m()\u001b[0m\n\u001b[1;32m      1\u001b[0m \u001b[0;31m# Using best params from GridSearch\u001b[0m\u001b[0;34m\u001b[0m\u001b[0;34m\u001b[0m\u001b[0m\n\u001b[0;32m----> 2\u001b[0;31m \u001b[0mmodel\u001b[0m\u001b[0;34m.\u001b[0m\u001b[0mset_params\u001b[0m\u001b[0;34m(\u001b[0m\u001b[0;34m**\u001b[0m\u001b[0mCV\u001b[0m\u001b[0;34m.\u001b[0m\u001b[0mbest_params_\u001b[0m\u001b[0;34m)\u001b[0m\u001b[0;34m\u001b[0m\u001b[0m\n\u001b[0m",
      "\u001b[0;31mNameError\u001b[0m: name 'model' is not defined"
     ]
    }
   ],
   "source": [
    "# Using best params from GridSearch\n",
    "model.set_params(**CV.best_params_)"
   ]
  },
  {
   "cell_type": "markdown",
   "metadata": {},
   "source": [
    "#### Tuned Model"
   ]
  },
  {
   "cell_type": "code",
   "execution_count": 37,
   "metadata": {},
   "outputs": [],
   "source": [
    "model = RandomForestRegressor(random_state=42, \n",
    "                              n_estimators=150, \n",
    "                              bootstrap=True, \n",
    "                              max_features=None, \n",
    "                              max_depth=None, \n",
    "                              min_samples_leaf=1,\n",
    "                              min_samples_split=3,\n",
    "                              verbose=1)"
   ]
  },
  {
   "cell_type": "code",
   "execution_count": 38,
   "metadata": {},
   "outputs": [
    {
     "name": "stderr",
     "output_type": "stream",
     "text": [
      "[Parallel(n_jobs=1)]: Using backend SequentialBackend with 1 concurrent workers.\n",
      "[Parallel(n_jobs=1)]: Done 150 out of 150 | elapsed:  7.9min finished\n",
      "[Parallel(n_jobs=1)]: Using backend SequentialBackend with 1 concurrent workers.\n",
      "[Parallel(n_jobs=1)]: Done 150 out of 150 | elapsed:    6.3s finished\n"
     ]
    },
    {
     "name": "stdout",
     "output_type": "stream",
     "text": [
      "Learner Name : RandomForestRegressor\n",
      "Training     : 472.92 secs / 337256 records\n",
      "Predicting   : 6.33 secs / 84314 records\n",
      "Weighted MAE : 1575.16\n",
      "\n",
      "<Feature Importance>\n",
      "\n"
     ]
    },
    {
     "data": {
      "image/png": "[encoded data removed]",
      "text/plain": [
       "<Figure size 1296x360 with 1 Axes>"
      ]
     },
     "metadata": {},
     "output_type": "display_data"
    },
    {
     "name": "stdout",
     "output_type": "stream",
     "text": [
      "\n",
      "<Feature Weightage>\n",
      "\n",
      "\tDept           : 0.6250793574344988\n",
      "\tSize           : 0.18445624573534627\n",
      "\tStore          : 0.06855207600205936\n",
      "\tWeek           : 0.026906716108050503\n",
      "\tMarkDown3      : 0.026709520459252203\n",
      "\tCPI            : 0.025255933932968305\n",
      "\tUnemployment   : 0.010421515017031759\n",
      "\tTemperature    : 0.009166881046388393\n",
      "\tMarkDown1      : 0.004119728330847388\n",
      "\tFuel_Price     : 0.0039113763362959705\n",
      "\tMarkDown5      : 0.0038549604377399065\n",
      "\tType_B         : 0.0038044532964432508\n",
      "\tType_C         : 0.003479351793556413\n",
      "\tMarkDown2      : 0.0033722542449879933\n",
      "\tIsHoliday      : 0.0009096298245336268\n",
      "\n",
      "<Learner Params>\n",
      " {'bootstrap': True, 'criterion': 'mse', 'max_depth': None, 'max_features': None, 'max_leaf_nodes': None, 'min_impurity_decrease': 0.0, 'min_impurity_split': None, 'min_samples_leaf': 1, 'min_samples_split': 3, 'min_weight_fraction_leaf': 0.0, 'n_estimators': 150, 'n_jobs': None, 'oob_score': False, 'random_state': 42, 'verbose': 1, 'warm_start': False}\n"
     ]
    }
   ],
   "source": [
    "model, pred_y_rf_val = train_predict(model, train_X, train_y, val_X, val_y, verbose=1)"
   ]
  },
  {
   "cell_type": "code",
   "execution_count": 39,
   "metadata": {},
   "outputs": [
    {
     "name": "stderr",
     "output_type": "stream",
     "text": [
      "[Parallel(n_jobs=1)]: Using backend SequentialBackend with 1 concurrent workers.\n",
      "[Parallel(n_jobs=1)]: Done 150 out of 150 | elapsed:    2.8s finished\n"
     ]
    }
   ],
   "source": [
    "pred_y_rf_test = model.predict(test_scaled)"
   ]
  },
  {
   "cell_type": "markdown",
   "metadata": {},
   "source": [
    "### Evaluate Light GBM (Boosting)"
   ]
  },
  {
   "cell_type": "markdown",
   "metadata": {},
   "source": [
    "#### Default Model"
   ]
  },
  {
   "cell_type": "code",
   "execution_count": 40,
   "metadata": {},
   "outputs": [],
   "source": [
    "# Default model\n",
    "model = LGBMRegressor()"
   ]
  },
  {
   "cell_type": "code",
   "execution_count": 41,
   "metadata": {},
   "outputs": [
    {
     "name": "stdout",
     "output_type": "stream",
     "text": [
      "Learner Name : LGBMRegressor\n",
      "Training     : 2.77 secs / 337256 records\n",
      "Predicting   : 0.35 secs / 84314 records\n",
      "Weighted MAE : 4269.28\n",
      "\n",
      "<Feature Importance>\n",
      "\n"
     ]
    },
    {
     "data": {
      "image/png": "[encoded data removed]",
      "text/plain": [
       "<Figure size 1296x360 with 1 Axes>"
      ]
     },
     "metadata": {},
     "output_type": "display_data"
    },
    {
     "name": "stdout",
     "output_type": "stream",
     "text": [
      "\n",
      "<Feature Weightage>\n",
      "\n",
      "\tDept           : 1725\n",
      "\tStore          : 354\n",
      "\tSize           : 323\n",
      "\tWeek           : 187\n",
      "\tCPI            : 107\n",
      "\tMarkDown3      : 78\n",
      "\tUnemployment   : 69\n",
      "\tTemperature    : 46\n",
      "\tType_B         : 44\n",
      "\tMarkDown1      : 21\n",
      "\tFuel_Price     : 13\n",
      "\tIsHoliday      : 13\n",
      "\tMarkDown2      : 11\n",
      "\tMarkDown5      : 7\n",
      "\tType_C         : 2\n",
      "\n",
      "<Learner Params>\n",
      " {'boosting_type': 'gbdt', 'class_weight': None, 'colsample_bytree': 1.0, 'importance_type': 'split', 'learning_rate': 0.1, 'max_depth': -1, 'min_child_samples': 20, 'min_child_weight': 0.001, 'min_split_gain': 0.0, 'n_estimators': 100, 'n_jobs': -1, 'num_leaves': 31, 'objective': None, 'random_state': None, 'reg_alpha': 0.0, 'reg_lambda': 0.0, 'silent': True, 'subsample': 1.0, 'subsample_for_bin': 200000, 'subsample_freq': 0}\n"
     ]
    }
   ],
   "source": [
    "model, pred_y_lgbm_val = train_predict(model, train_X, train_y, val_X, val_y, verbose=1)"
   ]
  },
  {
   "cell_type": "code",
   "execution_count": 27,
   "metadata": {},
   "outputs": [],
   "source": [
    "param_grid = {\n",
    "    'boosting_type': ['gbdt'], \n",
    "    'objective': ['regression'],\n",
    "    'random_state': [42],\n",
    "    'min_data_in_leaf':[2,3,4,5],\n",
    "    'min_depth':[3,4,5],\n",
    "    'learning_rate': [0.1, 0.2, 0.3],\n",
    "    'n_estimators': [100, 500, 1000, 2000, 3000],\n",
    "    'num_leaves': [30, 40, 60, 80]\n",
    "}"
   ]
  },
  {
   "cell_type": "code",
   "execution_count": null,
   "metadata": {},
   "outputs": [
    {
     "name": "stdout",
     "output_type": "stream",
     "text": [
      "Fitting 3 folds for each of 12 candidates, totalling 36 fits\n"
     ]
    },
    {
     "name": "stderr",
     "output_type": "stream",
     "text": [
      "[Parallel(n_jobs=1)]: Using backend SequentialBackend with 1 concurrent workers.\n"
     ]
    }
   ],
   "source": [
    "%%time\n",
    "#CV_lgbm = GridSearchCV(estimator=model, param_grid=param_grid, cv=3, verbose=1, scoring='neg_mean_absolute_error')\n",
    "CV = GridSearchCV(estimator=model, param_grid=param_grid, cv=3, verbose=1)\n",
    "CV.fit(train_X, train_y)"
   ]
  },
  {
   "cell_type": "code",
   "execution_count": 30,
   "metadata": {},
   "outputs": [
    {
     "name": "stdout",
     "output_type": "stream",
     "text": [
      "{'boosting_type': 'gbdt', 'learning_rate': 0.3, 'min_child_samples': 5, 'min_data_in_leaf': 2, 'min_depth': 3, 'n_estimators': 3000, 'num_leaves': 80, 'objective': 'regression', 'random_state': 42, 'reg_alpha': 0.1, 'reg_lambda': 2}\n"
     ]
    }
   ],
   "source": [
    "#print(\"Best parameter (CV score=%0.3f):\" % CV.best_score_)\n",
    "print(CV.best_params_)"
   ]
  },
  {
   "cell_type": "code",
   "execution_count": 31,
   "metadata": {},
   "outputs": [
    {
     "data": {
      "text/plain": [
       "LGBMRegressor(boosting_type='gbdt', class_weight=None, colsample_bytree=1.0,\n",
       "       importance_type='split', learning_rate=0.3, max_depth=-1,\n",
       "       min_child_samples=5, min_child_weight=0.001, min_data_in_leaf=2,\n",
       "       min_depth=3, min_split_gain=0.0, n_estimators=3000, n_jobs=-1,\n",
       "       num_leaves=80, objective='regression', random_state=42,\n",
       "       reg_alpha=0.1, reg_lambda=2, silent=True, subsample=1.0,\n",
       "       subsample_for_bin=200000, subsample_freq=0)"
      ]
     },
     "execution_count": 31,
     "metadata": {},
     "output_type": "execute_result"
    }
   ],
   "source": [
    "# Using best params from GridSearch\n",
    "model.set_params(**CV.best_params_)"
   ]
  },
  {
   "cell_type": "markdown",
   "metadata": {},
   "source": [
    "#### Default Model"
   ]
  },
  {
   "cell_type": "code",
   "execution_count": 27,
   "metadata": {},
   "outputs": [],
   "source": [
    "model = LGBMRegressor(boosting_type='gbdt', class_weight=None, colsample_bytree=1.0,\n",
    "                      importance_type='split', learning_rate=0.3, max_depth=-1,\n",
    "                      min_child_samples=5, min_child_weight=0.001, min_split_gain=0.0,\n",
    "                      n_estimators=3000, n_jobs=-1, num_leaves=60, objective='regression',\n",
    "                      random_state=0, reg_alpha=0.1, reg_lambda=2, silent=True,\n",
    "                      subsample=1.0, subsample_for_bin=200000, subsample_freq=0,\n",
    "                      verbose=1)"
   ]
  },
  {
   "cell_type": "code",
   "execution_count": null,
   "metadata": {},
   "outputs": [],
   "source": [
    "model = LGBMRegressor(boosting_type='gbdt', class_weight=None, colsample_bytree=1.0,\n",
    "                      importance_type='split', learning_rate=0.3, max_depth=-1,\n",
    "                      min_child_samples=5, min_child_weight=0.001, min_data_in_leaf=2,\n",
    "                      min_depth=3, min_split_gain=0.0, n_estimators=3000, n_jobs=-1,\n",
    "                      num_leaves=80, objective='regression', random_state=42,\n",
    "                      reg_alpha=0.1, reg_lambda=2, silent=True, subsample=1.0,\n",
    "                      subsample_for_bin=200000, subsample_freq=0,\n",
    "                      verbose=1)"
   ]
  },
  {
   "cell_type": "code",
   "execution_count": 28,
   "metadata": {},
   "outputs": [
    {
     "name": "stdout",
     "output_type": "stream",
     "text": [
      "Learner Name : LGBMRegressor\n",
      "Training     : 42.02 secs / 337256 records\n",
      "Predicting   : 10.1 secs / 84314 records\n",
      "Weighted MAE : 1479.05\n",
      "\n",
      "<Feature Importance>\n",
      "\n"
     ]
    },
    {
     "data": {
      "image/png": "[encoded data removed]",
      "text/plain": [
       "<Figure size 1296x360 with 1 Axes>"
      ]
     },
     "metadata": {},
     "output_type": "display_data"
    },
    {
     "name": "stdout",
     "output_type": "stream",
     "text": [
      "\n",
      "<Feature Weightage>\n",
      "\n",
      "\tDept           : 52090\n",
      "\tTemperature    : 14440\n",
      "\tFuel_Price     : 13416\n",
      "\tCPI            : 12709\n",
      "\tStore          : 11440\n",
      "\tMarkDown1      : 11153\n",
      "\tMarkDown3      : 11005\n",
      "\tUnemployment   : 10790\n",
      "\tWeek           : 10751\n",
      "\tMarkDown5      : 10036\n",
      "\tSize           : 9472\n",
      "\tMarkDown2      : 8339\n",
      "\tIsHoliday      : 748\n",
      "\tType_B         : 602\n",
      "\tType_C         : 9\n",
      "\n",
      "<Learner Params>\n",
      " {'boosting_type': 'gbdt', 'class_weight': None, 'colsample_bytree': 1.0, 'importance_type': 'split', 'learning_rate': 0.3, 'max_depth': -1, 'min_child_samples': 5, 'min_child_weight': 0.001, 'min_split_gain': 0.0, 'n_estimators': 3000, 'n_jobs': -1, 'num_leaves': 60, 'objective': 'regression', 'random_state': 0, 'reg_alpha': 0.1, 'reg_lambda': 2, 'silent': True, 'subsample': 1.0, 'subsample_for_bin': 200000, 'subsample_freq': 0, 'verbose': 1}\n"
     ]
    }
   ],
   "source": [
    "model, pred_y_lgbm_val = train_predict(model, train_X, train_y, val_X, val_y, verbose=1)"
   ]
  },
  {
   "cell_type": "code",
   "execution_count": 29,
   "metadata": {},
   "outputs": [],
   "source": [
    "pred_y_lgbm_test = model.predict(test_scaled)"
   ]
  },
  {
   "cell_type": "markdown",
   "metadata": {},
   "source": [
    "## Model Stacking"
   ]
  },
  {
   "cell_type": "code",
   "execution_count": 30,
   "metadata": {},
   "outputs": [],
   "source": [
    "# Blend the results of the two regressors and save the prediction to a CSV file.\n",
    "pred_y_val = (pred_y_rf_val * 0.8) + (pred_y_lgbm_val * 0.2)\n",
    "pred_y = (pred_y_rf_test * 0.8) + (pred_y_lgbm_test * 0.2)\n",
    "pred_y = np.exp(pred_y)"
   ]
  },
  {
   "cell_type": "code",
   "execution_count": 31,
   "metadata": {},
   "outputs": [
    {
     "name": "stdout",
     "output_type": "stream",
     "text": [
      "Weighted Mean Absolute Error:  1454.4252669889693\n"
     ]
    }
   ],
   "source": [
    "# make predictions\n",
    "print(\"Weighted Mean Absolute Error: \", weighted_mean_absolute_error(pred_y_val, val_y, compute_weights(val_X['IsHoliday'])))"
   ]
  },
  {
   "cell_type": "code",
   "execution_count": 43,
   "metadata": {},
   "outputs": [],
   "source": [
    "submission['Weekly_Sales'] = pred_y"
   ]
  },
  {
   "cell_type": "code",
   "execution_count": 44,
   "metadata": {},
   "outputs": [],
   "source": [
    "submission[['Id','Weekly_Sales']].to_csv('submission.csv', index=False)"
   ]
  },
  {
   "cell_type": "code",
   "execution_count": null,
   "metadata": {},
   "outputs": [],
   "source": []
  }
 ],
 "metadata": {
  "kernelspec": {
   "display_name": "conda_pytorch_p36",
   "language": "python",
   "name": "conda_pytorch_p36"
  },
  "language_info": {
   "codemirror_mode": {
    "name": "ipython",
    "version": 3
   },
   "file_extension": ".py",
   "mimetype": "text/x-python",
   "name": "python",
   "nbconvert_exporter": "python",
   "pygments_lexer": "ipython3",
   "version": "3.6.5"
  }
 },
 "nbformat": 4,
 "nbformat_minor": 2
}
